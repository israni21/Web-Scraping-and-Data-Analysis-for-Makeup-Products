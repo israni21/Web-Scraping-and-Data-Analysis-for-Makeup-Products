{
 "cells": [
  {
   "cell_type": "markdown",
   "id": "9a81f92d",
   "metadata": {},
   "source": [
    "## Importing Libraries "
   ]
  },
  {
   "cell_type": "code",
   "execution_count": null,
   "id": "42fb2362",
   "metadata": {},
   "outputs": [],
   "source": [
    "import requests\n",
    "from bs4 import BeautifulSoup\n",
    "import numpy as np\n",
    "import pandas as pd\n",
    "import matplotlib.pyplot as plt\n",
    "import seaborn as sns"
   ]
  },
  {
   "cell_type": "markdown",
   "id": "a24a94cb",
   "metadata": {},
   "source": [
    "## Data Scrapping - Nykaa Website (Makeup Section)"
   ]
  },
  {
   "cell_type": "code",
   "execution_count": null,
   "id": "6f6473e8",
   "metadata": {},
   "outputs": [],
   "source": [
    "pages = []\n",
    "product_name = []\n",
    "original_price = []\n",
    "discount_price = []\n",
    "discount_percentage = []\n",
    "stars = []\n",
    "no_of_ratings = []\n",
    "no_of_reviews = []\n",
    "product_url = []\n",
    "\n",
    "for i in range(1, 56):\n",
    "    url = \"https://www.nykaa.com/makeup/c/12?page_no=\"+\"{}\".format(i)\n",
    "    print(url)\n",
    "    r = requests.get(url)\n",
    "    soup = BeautifulSoup(r.text, \"lxml\")\n",
    "\n",
    "    names = soup.find_all(\"div\", class_ = \"css-xrzmfa\")\n",
    "\n",
    "    #product name\n",
    "    for j in names:\n",
    "        if j is not None:\n",
    "            t = j.text\n",
    "        else: \n",
    "            t = \"NA\"\n",
    "        product_name.append(t)\n",
    "    \n",
    "    #original price\n",
    "    o_price = soup.find_all(\"span\", class_ = \"css-17x46n5\")\n",
    "    for j in o_price:\n",
    "        if j is not None:\n",
    "            t = j.text\n",
    "        else: \n",
    "            t = \"NA\"\n",
    "        original_price.append(t)\n",
    "    \n",
    "    #discount price\n",
    "    d_price = soup.find_all(\"span\", class_ = \"css-111z9ua\")\n",
    "    for j in d_price:\n",
    "        if j is not None:\n",
    "            t = j.text\n",
    "        else: \n",
    "            t = \"NA\"\n",
    "        discount_price.append(t)\n",
    "    \n",
    "    #product url\n",
    "    head = soup.find_all(\"div\", class_ = \"css-d5z3ro\")\n",
    "    str = \"https://nykaa.com\"\n",
    "    for j in head:\n",
    "        temp = j.find(\"a\", class_ = \"css-qlopj4\").get(\"href\")\n",
    "        product_url.append(str + temp)\n",
    "\n",
    "#discount percentage\n",
    "for j in product_url:\n",
    "    res = requests.get(j)\n",
    "    res = res.content\n",
    "    soup = BeautifulSoup(res, \"html.parser\")        \n",
    "    temp = soup.find(\"span\", class_ = \"css-bhhehx\")\n",
    "    if temp is not None:\n",
    "        t = temp.text\n",
    "    else: \n",
    "        t = \"NA\"\n",
    "    discount_percentage.append(t)\n",
    "\n",
    "#rating stars\n",
    "for j in product_url:\n",
    "    res = requests.get(j)\n",
    "    res = res.content\n",
    "    soup = BeautifulSoup(res, \"html.parser\")        \n",
    "    temp = soup.find(\"div\", class_ = \"css-m6n3ou\")\n",
    "    if temp is not None:\n",
    "        t = temp.text\n",
    "    else: \n",
    "        t = \"NA\"\n",
    "    stars.append(t)\n",
    "\n",
    "#ratings\n",
    "for j in product_url:\n",
    "    res = requests.get(j)\n",
    "    res = res.content\n",
    "    soup = BeautifulSoup(res, \"html.parser\")\n",
    "    temp = soup.find(\"div\", class_ = \"css-1hvvm95\")\n",
    "    if temp is not None:\n",
    "        t = temp.text\n",
    "    else: \n",
    "        t = \"NA\"\n",
    "    no_of_ratings.append(t)\n",
    "\n",
    "#reviews\n",
    "for j in product_url:\n",
    "    res = requests.get(j)\n",
    "    res = res.content\n",
    "    soup = BeautifulSoup(res, \"html.parser\")\n",
    "    temp = soup.find_all(\"div\", class_ = \"css-1hvvm95\")\n",
    "    if len(temp) >= 3:\n",
    "        if temp[2] is not None:\n",
    "            t = temp[2].text\n",
    "        else: \n",
    "            t = \"NA\"\n",
    "    else:\n",
    "        t = \"NA\"\n",
    "    no_of_reviews.append(t)\n",
    "    \n",
    "print(product_name)\n",
    "print(original_price)\n",
    "print(discount_price)\n",
    "print(discount_percentage)\n",
    "print(product_url)\n",
    "print(stars)\n",
    "print(no_of_ratings)\n",
    "print(no_of_reviews)\n",
    "\n",
    "df = pd.DataFrame({\"Product Name\":product_name, \"Product Url\":product_url, \"Original Price\":original_price, \n",
    "                   \"Discount Price\":discount_price, \"Discount Percentage\":discount_percentage, \"Stars\":stars, \n",
    "                   \"Ratings\":no_of_ratings, \"Reviews\":no_of_reviews})\n",
    "print(df)\n",
    "\n",
    "df.to_csv(\"nykaa_makeup_products.csv\")"
   ]
  },
  {
   "cell_type": "markdown",
   "id": "d84f511e",
   "metadata": {},
   "source": [
    "## Reading Data"
   ]
  },
  {
   "cell_type": "code",
   "execution_count": 83,
   "id": "12fb3da9",
   "metadata": {},
   "outputs": [
    {
     "data": {
      "text/html": [
       "<div>\n",
       "<style scoped>\n",
       "    .dataframe tbody tr th:only-of-type {\n",
       "        vertical-align: middle;\n",
       "    }\n",
       "\n",
       "    .dataframe tbody tr th {\n",
       "        vertical-align: top;\n",
       "    }\n",
       "\n",
       "    .dataframe thead th {\n",
       "        text-align: right;\n",
       "    }\n",
       "</style>\n",
       "<table border=\"1\" class=\"dataframe\">\n",
       "  <thead>\n",
       "    <tr style=\"text-align: right;\">\n",
       "      <th></th>\n",
       "      <th>Product Name</th>\n",
       "      <th>Product Url</th>\n",
       "      <th>Original Price</th>\n",
       "      <th>Discount Price</th>\n",
       "      <th>Discount Percentage</th>\n",
       "      <th>Stars</th>\n",
       "      <th>Ratings</th>\n",
       "      <th>Reviews</th>\n",
       "    </tr>\n",
       "  </thead>\n",
       "  <tbody>\n",
       "    <tr>\n",
       "      <th>0</th>\n",
       "      <td>Lakme 9 To 5 Wet &amp; Dry Compact</td>\n",
       "      <td>https://nykaa.com/lakme-9-to-5-wet-dry-compact...</td>\n",
       "      <td>MRP:₹650</td>\n",
       "      <td>₹423</td>\n",
       "      <td>35% Off</td>\n",
       "      <td>4.2/5</td>\n",
       "      <td>218 ratings</td>\n",
       "      <td>9 reviews</td>\n",
       "    </tr>\n",
       "    <tr>\n",
       "      <th>1</th>\n",
       "      <td>Nykaa Cosmetics So Creme! Creamy Matte Lipstick</td>\n",
       "      <td>https://nykaa.com/nykaa-so-creme-creamy-matte-...</td>\n",
       "      <td>MRP:₹329</td>\n",
       "      <td>₹247</td>\n",
       "      <td>25% Off</td>\n",
       "      <td>4.3/5</td>\n",
       "      <td>87432 ratings</td>\n",
       "      <td>9431 reviews</td>\n",
       "    </tr>\n",
       "    <tr>\n",
       "      <th>2</th>\n",
       "      <td>Faces Canada Comfy Matte Lip Color</td>\n",
       "      <td>https://nykaa.com/faces-canada-comfy-matte-lip...</td>\n",
       "      <td>MRP:₹399</td>\n",
       "      <td>₹279</td>\n",
       "      <td>30% Off</td>\n",
       "      <td>4.3/5</td>\n",
       "      <td>10696 ratings</td>\n",
       "      <td>1220 reviews</td>\n",
       "    </tr>\n",
       "    <tr>\n",
       "      <th>3</th>\n",
       "      <td>Kay Beauty Matte Blush</td>\n",
       "      <td>https://nykaa.com/kay-beauty-matte-blush/p/108...</td>\n",
       "      <td>MRP:₹899</td>\n",
       "      <td>₹629</td>\n",
       "      <td>30% Off</td>\n",
       "      <td>4.5/5</td>\n",
       "      <td>6313 ratings</td>\n",
       "      <td>1196 reviews</td>\n",
       "    </tr>\n",
       "    <tr>\n",
       "      <th>4</th>\n",
       "      <td>Elle 18 Kajal Love Combo</td>\n",
       "      <td>https://nykaa.com/elle-18-party-starter-kit/p/...</td>\n",
       "      <td>MRP:₹198</td>\n",
       "      <td>₹168</td>\n",
       "      <td>15% Off</td>\n",
       "      <td>4.4/5</td>\n",
       "      <td>26997 ratings</td>\n",
       "      <td>19 reviews</td>\n",
       "    </tr>\n",
       "    <tr>\n",
       "      <th>...</th>\n",
       "      <td>...</td>\n",
       "      <td>...</td>\n",
       "      <td>...</td>\n",
       "      <td>...</td>\n",
       "      <td>...</td>\n",
       "      <td>...</td>\n",
       "      <td>...</td>\n",
       "      <td>...</td>\n",
       "    </tr>\n",
       "    <tr>\n",
       "      <th>1095</th>\n",
       "      <td>Miss Claire One Stroke Kajal - Super Black</td>\n",
       "      <td>https://nykaa.com/miss-claire-one-stroke-kajal...</td>\n",
       "      <td>MRP:₹95</td>\n",
       "      <td>₹48</td>\n",
       "      <td>50% Off</td>\n",
       "      <td>4.3/5</td>\n",
       "      <td>751 ratings</td>\n",
       "      <td>85 reviews</td>\n",
       "    </tr>\n",
       "    <tr>\n",
       "      <th>1096</th>\n",
       "      <td>Nykaa Cosmetics Insta Dry Nail Enamel - Reelin...</td>\n",
       "      <td>https://nykaa.com/nykaa-insta-dry-nail-enamel-...</td>\n",
       "      <td>MRP:₹916</td>\n",
       "      <td>₹779</td>\n",
       "      <td>15% Off</td>\n",
       "      <td>4.4/5</td>\n",
       "      <td>16 ratings</td>\n",
       "      <td>1 reviews</td>\n",
       "    </tr>\n",
       "    <tr>\n",
       "      <th>1097</th>\n",
       "      <td>Princess By Renee Cosmetics Unicorn Makeup Kit</td>\n",
       "      <td>https://nykaa.com/renee-cosmetics-unicorn-make...</td>\n",
       "      <td>MRP:₹950</td>\n",
       "      <td>₹759</td>\n",
       "      <td>20% Off</td>\n",
       "      <td>4.2/5</td>\n",
       "      <td>86 ratings</td>\n",
       "      <td>10 reviews</td>\n",
       "    </tr>\n",
       "    <tr>\n",
       "      <th>1098</th>\n",
       "      <td>Insight Cosmetics Beauty Blender Sponge Applic...</td>\n",
       "      <td>https://nykaa.com/insight-cosmetics-beauty-ble...</td>\n",
       "      <td>MRP:₹130</td>\n",
       "      <td>₹104</td>\n",
       "      <td>20% Off</td>\n",
       "      <td>4.5/5</td>\n",
       "      <td>1018 ratings</td>\n",
       "      <td>50 reviews</td>\n",
       "    </tr>\n",
       "    <tr>\n",
       "      <th>1099</th>\n",
       "      <td>Benefit Cosmetics Love Tint - Fiery Red</td>\n",
       "      <td>https://nykaa.com/benefit-cosmetics-love-tint-...</td>\n",
       "      <td>MRP:</td>\n",
       "      <td>₹1950</td>\n",
       "      <td>NaN</td>\n",
       "      <td>4.3/5</td>\n",
       "      <td>397 ratings</td>\n",
       "      <td>91 reviews</td>\n",
       "    </tr>\n",
       "  </tbody>\n",
       "</table>\n",
       "<p>1100 rows × 8 columns</p>\n",
       "</div>"
      ],
      "text/plain": [
       "                                           Product Name  \\\n",
       "0                        Lakme 9 To 5 Wet & Dry Compact   \n",
       "1       Nykaa Cosmetics So Creme! Creamy Matte Lipstick   \n",
       "2                    Faces Canada Comfy Matte Lip Color   \n",
       "3                                Kay Beauty Matte Blush   \n",
       "4                              Elle 18 Kajal Love Combo   \n",
       "...                                                 ...   \n",
       "1095         Miss Claire One Stroke Kajal - Super Black   \n",
       "1096  Nykaa Cosmetics Insta Dry Nail Enamel - Reelin...   \n",
       "1097     Princess By Renee Cosmetics Unicorn Makeup Kit   \n",
       "1098  Insight Cosmetics Beauty Blender Sponge Applic...   \n",
       "1099            Benefit Cosmetics Love Tint - Fiery Red   \n",
       "\n",
       "                                            Product Url Original Price  \\\n",
       "0     https://nykaa.com/lakme-9-to-5-wet-dry-compact...       MRP:₹650   \n",
       "1     https://nykaa.com/nykaa-so-creme-creamy-matte-...       MRP:₹329   \n",
       "2     https://nykaa.com/faces-canada-comfy-matte-lip...       MRP:₹399   \n",
       "3     https://nykaa.com/kay-beauty-matte-blush/p/108...       MRP:₹899   \n",
       "4     https://nykaa.com/elle-18-party-starter-kit/p/...       MRP:₹198   \n",
       "...                                                 ...            ...   \n",
       "1095  https://nykaa.com/miss-claire-one-stroke-kajal...        MRP:₹95   \n",
       "1096  https://nykaa.com/nykaa-insta-dry-nail-enamel-...       MRP:₹916   \n",
       "1097  https://nykaa.com/renee-cosmetics-unicorn-make...       MRP:₹950   \n",
       "1098  https://nykaa.com/insight-cosmetics-beauty-ble...       MRP:₹130   \n",
       "1099  https://nykaa.com/benefit-cosmetics-love-tint-...           MRP:   \n",
       "\n",
       "     Discount Price Discount Percentage  Stars          Ratings       Reviews  \n",
       "0              ₹423             35% Off  4.2/5    218 ratings       9 reviews  \n",
       "1              ₹247             25% Off  4.3/5  87432 ratings    9431 reviews  \n",
       "2              ₹279             30% Off  4.3/5  10696 ratings    1220 reviews  \n",
       "3              ₹629             30% Off  4.5/5   6313 ratings    1196 reviews  \n",
       "4              ₹168             15% Off  4.4/5  26997 ratings      19 reviews  \n",
       "...             ...                 ...    ...              ...           ...  \n",
       "1095            ₹48             50% Off  4.3/5    751 ratings      85 reviews  \n",
       "1096           ₹779             15% Off  4.4/5     16 ratings       1 reviews  \n",
       "1097           ₹759             20% Off  4.2/5     86 ratings      10 reviews  \n",
       "1098           ₹104             20% Off  4.5/5   1018 ratings      50 reviews  \n",
       "1099          ₹1950                 NaN  4.3/5    397 ratings      91 reviews  \n",
       "\n",
       "[1100 rows x 8 columns]"
      ]
     },
     "execution_count": 83,
     "metadata": {},
     "output_type": "execute_result"
    }
   ],
   "source": [
    "nykaa = pd.read_csv(r\"C:\\Users\\Riya\\OneDrive\\Desktop\\Nykaa Scrapping\\nykaa_makeup_products.csv\")\n",
    "nykaa"
   ]
  },
  {
   "cell_type": "markdown",
   "id": "aed896a9",
   "metadata": {},
   "source": [
    "## Data Cleaning"
   ]
  },
  {
   "cell_type": "code",
   "execution_count": 77,
   "id": "76355fe8",
   "metadata": {},
   "outputs": [
    {
     "data": {
      "text/plain": [
       "(1100, 10)"
      ]
     },
     "execution_count": 77,
     "metadata": {},
     "output_type": "execute_result"
    }
   ],
   "source": [
    "#check rows and columns\n",
    "nykaa.shape"
   ]
  },
  {
   "cell_type": "code",
   "execution_count": 6,
   "id": "44f43981",
   "metadata": {},
   "outputs": [
    {
     "data": {
      "text/plain": [
       "Product_Name             0\n",
       "Product_Url              0\n",
       "Original_Price         209\n",
       "Discount_Price           0\n",
       "Discount_Percentage    212\n",
       "Stars                    2\n",
       "Ratings                  2\n",
       "Reviews                 16\n",
       "dtype: int64"
      ]
     },
     "execution_count": 6,
     "metadata": {},
     "output_type": "execute_result"
    }
   ],
   "source": [
    "#check null values\n",
    "nykaa.isnull().sum()"
   ]
  },
  {
   "cell_type": "code",
   "execution_count": 4,
   "id": "7a5f1e9c",
   "metadata": {},
   "outputs": [],
   "source": [
    "#adding underscore between column names\n",
    "l = []\n",
    "col = nykaa.columns.to_list()\n",
    "for i in col:\n",
    "    j = \"_\".join(i.split())\n",
    "    l.append(j)\n",
    "nykaa.columns = l"
   ]
  },
  {
   "cell_type": "code",
   "execution_count": 5,
   "id": "7d7fe236",
   "metadata": {},
   "outputs": [],
   "source": [
    "#original price\n",
    "l = []\n",
    "col = nykaa[\"Original_Price\"].to_list()\n",
    "for i in col:\n",
    "    j = i.split(\":₹\")\n",
    "    if len(j) == 2:\n",
    "        l.append(j[1])\n",
    "    else:\n",
    "        l.append(np.nan)\n",
    "nykaa[\"Original_Price\"] = l"
   ]
  },
  {
   "cell_type": "code",
   "execution_count": 7,
   "id": "cd239ac2",
   "metadata": {},
   "outputs": [],
   "source": [
    "#discount price\n",
    "l = []\n",
    "col = nykaa[\"Discount_Price\"].to_list()\n",
    "for i in col:\n",
    "    j = i.split(\"₹\")\n",
    "    if len(j) == 2:\n",
    "        l.append(j[1])\n",
    "    else:\n",
    "        l.append(np.nan)\n",
    "nykaa[\"Discount_Price\"] = l"
   ]
  },
  {
   "cell_type": "code",
   "execution_count": 8,
   "id": "825ba088",
   "metadata": {},
   "outputs": [
    {
     "data": {
      "text/html": [
       "<div>\n",
       "<style scoped>\n",
       "    .dataframe tbody tr th:only-of-type {\n",
       "        vertical-align: middle;\n",
       "    }\n",
       "\n",
       "    .dataframe tbody tr th {\n",
       "        vertical-align: top;\n",
       "    }\n",
       "\n",
       "    .dataframe thead th {\n",
       "        text-align: right;\n",
       "    }\n",
       "</style>\n",
       "<table border=\"1\" class=\"dataframe\">\n",
       "  <thead>\n",
       "    <tr style=\"text-align: right;\">\n",
       "      <th></th>\n",
       "      <th>Product_Name</th>\n",
       "      <th>Product_Url</th>\n",
       "      <th>Original_Price</th>\n",
       "      <th>Discount_Price</th>\n",
       "      <th>Discount_Percentage</th>\n",
       "      <th>Stars</th>\n",
       "      <th>Ratings</th>\n",
       "      <th>Reviews</th>\n",
       "    </tr>\n",
       "  </thead>\n",
       "  <tbody>\n",
       "    <tr>\n",
       "      <th>0</th>\n",
       "      <td>Lakme 9 To 5 Wet &amp; Dry Compact</td>\n",
       "      <td>https://nykaa.com/lakme-9-to-5-wet-dry-compact...</td>\n",
       "      <td>650</td>\n",
       "      <td>423</td>\n",
       "      <td>35% Off</td>\n",
       "      <td>4.2/5</td>\n",
       "      <td>218 ratings</td>\n",
       "      <td>9 reviews</td>\n",
       "    </tr>\n",
       "    <tr>\n",
       "      <th>1</th>\n",
       "      <td>Nykaa Cosmetics So Creme! Creamy Matte Lipstick</td>\n",
       "      <td>https://nykaa.com/nykaa-so-creme-creamy-matte-...</td>\n",
       "      <td>329</td>\n",
       "      <td>247</td>\n",
       "      <td>25% Off</td>\n",
       "      <td>4.3/5</td>\n",
       "      <td>87432 ratings</td>\n",
       "      <td>9431 reviews</td>\n",
       "    </tr>\n",
       "    <tr>\n",
       "      <th>2</th>\n",
       "      <td>Faces Canada Comfy Matte Lip Color</td>\n",
       "      <td>https://nykaa.com/faces-canada-comfy-matte-lip...</td>\n",
       "      <td>399</td>\n",
       "      <td>279</td>\n",
       "      <td>30% Off</td>\n",
       "      <td>4.3/5</td>\n",
       "      <td>10696 ratings</td>\n",
       "      <td>1220 reviews</td>\n",
       "    </tr>\n",
       "    <tr>\n",
       "      <th>3</th>\n",
       "      <td>Kay Beauty Matte Blush</td>\n",
       "      <td>https://nykaa.com/kay-beauty-matte-blush/p/108...</td>\n",
       "      <td>899</td>\n",
       "      <td>629</td>\n",
       "      <td>30% Off</td>\n",
       "      <td>4.5/5</td>\n",
       "      <td>6313 ratings</td>\n",
       "      <td>1196 reviews</td>\n",
       "    </tr>\n",
       "    <tr>\n",
       "      <th>4</th>\n",
       "      <td>Elle 18 Kajal Love Combo</td>\n",
       "      <td>https://nykaa.com/elle-18-party-starter-kit/p/...</td>\n",
       "      <td>198</td>\n",
       "      <td>168</td>\n",
       "      <td>15% Off</td>\n",
       "      <td>4.4/5</td>\n",
       "      <td>26997 ratings</td>\n",
       "      <td>19 reviews</td>\n",
       "    </tr>\n",
       "  </tbody>\n",
       "</table>\n",
       "</div>"
      ],
      "text/plain": [
       "                                      Product_Name  \\\n",
       "0                   Lakme 9 To 5 Wet & Dry Compact   \n",
       "1  Nykaa Cosmetics So Creme! Creamy Matte Lipstick   \n",
       "2               Faces Canada Comfy Matte Lip Color   \n",
       "3                           Kay Beauty Matte Blush   \n",
       "4                         Elle 18 Kajal Love Combo   \n",
       "\n",
       "                                         Product_Url Original_Price  \\\n",
       "0  https://nykaa.com/lakme-9-to-5-wet-dry-compact...            650   \n",
       "1  https://nykaa.com/nykaa-so-creme-creamy-matte-...            329   \n",
       "2  https://nykaa.com/faces-canada-comfy-matte-lip...            399   \n",
       "3  https://nykaa.com/kay-beauty-matte-blush/p/108...            899   \n",
       "4  https://nykaa.com/elle-18-party-starter-kit/p/...            198   \n",
       "\n",
       "  Discount_Price Discount_Percentage  Stars          Ratings       Reviews  \n",
       "0            423             35% Off  4.2/5    218 ratings       9 reviews  \n",
       "1            247             25% Off  4.3/5  87432 ratings    9431 reviews  \n",
       "2            279             30% Off  4.3/5  10696 ratings    1220 reviews  \n",
       "3            629             30% Off  4.5/5   6313 ratings    1196 reviews  \n",
       "4            168             15% Off  4.4/5  26997 ratings      19 reviews  "
      ]
     },
     "execution_count": 8,
     "metadata": {},
     "output_type": "execute_result"
    }
   ],
   "source": [
    "nykaa.head()"
   ]
  },
  {
   "cell_type": "code",
   "execution_count": 9,
   "id": "84ad1c56",
   "metadata": {},
   "outputs": [],
   "source": [
    "l = []\n",
    "col1 = nykaa[\"Original_Price\"].to_list()\n",
    "col2 = nykaa[\"Discount_Price\"].to_list()\n",
    "for i, j in zip(col1, col2):\n",
    "    if pd.isnull(i):\n",
    "        i = j\n",
    "        #j = 0\n",
    "        l.append(i)\n",
    "    else:\n",
    "        l.append(i)\n",
    "nykaa[\"Original_Price\"] = l"
   ]
  },
  {
   "cell_type": "code",
   "execution_count": 10,
   "id": "4a21b4a0",
   "metadata": {},
   "outputs": [],
   "source": [
    "#discount percentage\n",
    "nykaa[\"Discount_Percentage\"].fillna(\"0% Off\", inplace = True)\n",
    "l = []\n",
    "col = nykaa[\"Discount_Percentage\"].to_list()\n",
    "for i in col:\n",
    "    l.append(i[:-5])\n",
    "nykaa[\"Discount_Percentage\"] = l"
   ]
  },
  {
   "cell_type": "code",
   "execution_count": 11,
   "id": "d2c0cdf9",
   "metadata": {},
   "outputs": [
    {
     "data": {
      "text/html": [
       "<div>\n",
       "<style scoped>\n",
       "    .dataframe tbody tr th:only-of-type {\n",
       "        vertical-align: middle;\n",
       "    }\n",
       "\n",
       "    .dataframe tbody tr th {\n",
       "        vertical-align: top;\n",
       "    }\n",
       "\n",
       "    .dataframe thead th {\n",
       "        text-align: right;\n",
       "    }\n",
       "</style>\n",
       "<table border=\"1\" class=\"dataframe\">\n",
       "  <thead>\n",
       "    <tr style=\"text-align: right;\">\n",
       "      <th></th>\n",
       "      <th>Product_Name</th>\n",
       "      <th>Product_Url</th>\n",
       "      <th>Original_Price</th>\n",
       "      <th>Discount_Price</th>\n",
       "      <th>Discount_Percentage</th>\n",
       "      <th>Stars</th>\n",
       "      <th>Ratings</th>\n",
       "      <th>Reviews</th>\n",
       "    </tr>\n",
       "  </thead>\n",
       "  <tbody>\n",
       "    <tr>\n",
       "      <th>0</th>\n",
       "      <td>Lakme 9 To 5 Wet &amp; Dry Compact</td>\n",
       "      <td>https://nykaa.com/lakme-9-to-5-wet-dry-compact...</td>\n",
       "      <td>650</td>\n",
       "      <td>423</td>\n",
       "      <td>35</td>\n",
       "      <td>4.2/5</td>\n",
       "      <td>218 ratings</td>\n",
       "      <td>9 reviews</td>\n",
       "    </tr>\n",
       "    <tr>\n",
       "      <th>1</th>\n",
       "      <td>Nykaa Cosmetics So Creme! Creamy Matte Lipstick</td>\n",
       "      <td>https://nykaa.com/nykaa-so-creme-creamy-matte-...</td>\n",
       "      <td>329</td>\n",
       "      <td>247</td>\n",
       "      <td>25</td>\n",
       "      <td>4.3/5</td>\n",
       "      <td>87432 ratings</td>\n",
       "      <td>9431 reviews</td>\n",
       "    </tr>\n",
       "    <tr>\n",
       "      <th>2</th>\n",
       "      <td>Faces Canada Comfy Matte Lip Color</td>\n",
       "      <td>https://nykaa.com/faces-canada-comfy-matte-lip...</td>\n",
       "      <td>399</td>\n",
       "      <td>279</td>\n",
       "      <td>30</td>\n",
       "      <td>4.3/5</td>\n",
       "      <td>10696 ratings</td>\n",
       "      <td>1220 reviews</td>\n",
       "    </tr>\n",
       "    <tr>\n",
       "      <th>3</th>\n",
       "      <td>Kay Beauty Matte Blush</td>\n",
       "      <td>https://nykaa.com/kay-beauty-matte-blush/p/108...</td>\n",
       "      <td>899</td>\n",
       "      <td>629</td>\n",
       "      <td>30</td>\n",
       "      <td>4.5/5</td>\n",
       "      <td>6313 ratings</td>\n",
       "      <td>1196 reviews</td>\n",
       "    </tr>\n",
       "    <tr>\n",
       "      <th>4</th>\n",
       "      <td>Elle 18 Kajal Love Combo</td>\n",
       "      <td>https://nykaa.com/elle-18-party-starter-kit/p/...</td>\n",
       "      <td>198</td>\n",
       "      <td>168</td>\n",
       "      <td>15</td>\n",
       "      <td>4.4/5</td>\n",
       "      <td>26997 ratings</td>\n",
       "      <td>19 reviews</td>\n",
       "    </tr>\n",
       "  </tbody>\n",
       "</table>\n",
       "</div>"
      ],
      "text/plain": [
       "                                      Product_Name  \\\n",
       "0                   Lakme 9 To 5 Wet & Dry Compact   \n",
       "1  Nykaa Cosmetics So Creme! Creamy Matte Lipstick   \n",
       "2               Faces Canada Comfy Matte Lip Color   \n",
       "3                           Kay Beauty Matte Blush   \n",
       "4                         Elle 18 Kajal Love Combo   \n",
       "\n",
       "                                         Product_Url Original_Price  \\\n",
       "0  https://nykaa.com/lakme-9-to-5-wet-dry-compact...            650   \n",
       "1  https://nykaa.com/nykaa-so-creme-creamy-matte-...            329   \n",
       "2  https://nykaa.com/faces-canada-comfy-matte-lip...            399   \n",
       "3  https://nykaa.com/kay-beauty-matte-blush/p/108...            899   \n",
       "4  https://nykaa.com/elle-18-party-starter-kit/p/...            198   \n",
       "\n",
       "  Discount_Price Discount_Percentage  Stars          Ratings       Reviews  \n",
       "0            423                  35  4.2/5    218 ratings       9 reviews  \n",
       "1            247                  25  4.3/5  87432 ratings    9431 reviews  \n",
       "2            279                  30  4.3/5  10696 ratings    1220 reviews  \n",
       "3            629                  30  4.5/5   6313 ratings    1196 reviews  \n",
       "4            168                  15  4.4/5  26997 ratings      19 reviews  "
      ]
     },
     "execution_count": 11,
     "metadata": {},
     "output_type": "execute_result"
    }
   ],
   "source": [
    "nykaa.head()"
   ]
  },
  {
   "cell_type": "code",
   "execution_count": 12,
   "id": "9c62e975",
   "metadata": {},
   "outputs": [],
   "source": [
    "nykaa[\"Stars\"].fillna(\"0.0/5\", inplace = True)\n",
    "l = []\n",
    "col = nykaa[\"Stars\"].to_list()\n",
    "for i in col:\n",
    "    l.append(i[:-2])\n",
    "nykaa[\"Stars\"] = l"
   ]
  },
  {
   "cell_type": "code",
   "execution_count": 13,
   "id": "d10cc03a",
   "metadata": {},
   "outputs": [
    {
     "data": {
      "text/html": [
       "<div>\n",
       "<style scoped>\n",
       "    .dataframe tbody tr th:only-of-type {\n",
       "        vertical-align: middle;\n",
       "    }\n",
       "\n",
       "    .dataframe tbody tr th {\n",
       "        vertical-align: top;\n",
       "    }\n",
       "\n",
       "    .dataframe thead th {\n",
       "        text-align: right;\n",
       "    }\n",
       "</style>\n",
       "<table border=\"1\" class=\"dataframe\">\n",
       "  <thead>\n",
       "    <tr style=\"text-align: right;\">\n",
       "      <th></th>\n",
       "      <th>Product_Name</th>\n",
       "      <th>Product_Url</th>\n",
       "      <th>Original_Price</th>\n",
       "      <th>Discount_Price</th>\n",
       "      <th>Discount_Percentage</th>\n",
       "      <th>Stars</th>\n",
       "      <th>Ratings</th>\n",
       "      <th>Reviews</th>\n",
       "    </tr>\n",
       "  </thead>\n",
       "  <tbody>\n",
       "    <tr>\n",
       "      <th>0</th>\n",
       "      <td>Lakme 9 To 5 Wet &amp; Dry Compact</td>\n",
       "      <td>https://nykaa.com/lakme-9-to-5-wet-dry-compact...</td>\n",
       "      <td>650</td>\n",
       "      <td>423</td>\n",
       "      <td>35</td>\n",
       "      <td>4.2</td>\n",
       "      <td>218 ratings</td>\n",
       "      <td>9 reviews</td>\n",
       "    </tr>\n",
       "    <tr>\n",
       "      <th>1</th>\n",
       "      <td>Nykaa Cosmetics So Creme! Creamy Matte Lipstick</td>\n",
       "      <td>https://nykaa.com/nykaa-so-creme-creamy-matte-...</td>\n",
       "      <td>329</td>\n",
       "      <td>247</td>\n",
       "      <td>25</td>\n",
       "      <td>4.3</td>\n",
       "      <td>87432 ratings</td>\n",
       "      <td>9431 reviews</td>\n",
       "    </tr>\n",
       "    <tr>\n",
       "      <th>2</th>\n",
       "      <td>Faces Canada Comfy Matte Lip Color</td>\n",
       "      <td>https://nykaa.com/faces-canada-comfy-matte-lip...</td>\n",
       "      <td>399</td>\n",
       "      <td>279</td>\n",
       "      <td>30</td>\n",
       "      <td>4.3</td>\n",
       "      <td>10696 ratings</td>\n",
       "      <td>1220 reviews</td>\n",
       "    </tr>\n",
       "    <tr>\n",
       "      <th>3</th>\n",
       "      <td>Kay Beauty Matte Blush</td>\n",
       "      <td>https://nykaa.com/kay-beauty-matte-blush/p/108...</td>\n",
       "      <td>899</td>\n",
       "      <td>629</td>\n",
       "      <td>30</td>\n",
       "      <td>4.5</td>\n",
       "      <td>6313 ratings</td>\n",
       "      <td>1196 reviews</td>\n",
       "    </tr>\n",
       "    <tr>\n",
       "      <th>4</th>\n",
       "      <td>Elle 18 Kajal Love Combo</td>\n",
       "      <td>https://nykaa.com/elle-18-party-starter-kit/p/...</td>\n",
       "      <td>198</td>\n",
       "      <td>168</td>\n",
       "      <td>15</td>\n",
       "      <td>4.4</td>\n",
       "      <td>26997 ratings</td>\n",
       "      <td>19 reviews</td>\n",
       "    </tr>\n",
       "  </tbody>\n",
       "</table>\n",
       "</div>"
      ],
      "text/plain": [
       "                                      Product_Name  \\\n",
       "0                   Lakme 9 To 5 Wet & Dry Compact   \n",
       "1  Nykaa Cosmetics So Creme! Creamy Matte Lipstick   \n",
       "2               Faces Canada Comfy Matte Lip Color   \n",
       "3                           Kay Beauty Matte Blush   \n",
       "4                         Elle 18 Kajal Love Combo   \n",
       "\n",
       "                                         Product_Url Original_Price  \\\n",
       "0  https://nykaa.com/lakme-9-to-5-wet-dry-compact...            650   \n",
       "1  https://nykaa.com/nykaa-so-creme-creamy-matte-...            329   \n",
       "2  https://nykaa.com/faces-canada-comfy-matte-lip...            399   \n",
       "3  https://nykaa.com/kay-beauty-matte-blush/p/108...            899   \n",
       "4  https://nykaa.com/elle-18-party-starter-kit/p/...            198   \n",
       "\n",
       "  Discount_Price Discount_Percentage Stars          Ratings       Reviews  \n",
       "0            423                  35   4.2    218 ratings       9 reviews  \n",
       "1            247                  25   4.3  87432 ratings    9431 reviews  \n",
       "2            279                  30   4.3  10696 ratings    1220 reviews  \n",
       "3            629                  30   4.5   6313 ratings    1196 reviews  \n",
       "4            168                  15   4.4  26997 ratings      19 reviews  "
      ]
     },
     "execution_count": 13,
     "metadata": {},
     "output_type": "execute_result"
    }
   ],
   "source": [
    "nykaa.head()"
   ]
  },
  {
   "cell_type": "code",
   "execution_count": 14,
   "id": "6ac01eb0",
   "metadata": {},
   "outputs": [],
   "source": [
    "#ratings\n",
    "nykaa[\"Ratings\"].fillna(\"0 ratings\", inplace = True)\n",
    "l = []\n",
    "col = nykaa[\"Ratings\"].to_list()\n",
    "for i in col:\n",
    "    x = i.split()\n",
    "    l.append(x[0])\n",
    "nykaa[\"Ratings\"] = l"
   ]
  },
  {
   "cell_type": "code",
   "execution_count": 15,
   "id": "2ff33e3f",
   "metadata": {},
   "outputs": [
    {
     "data": {
      "text/html": [
       "<div>\n",
       "<style scoped>\n",
       "    .dataframe tbody tr th:only-of-type {\n",
       "        vertical-align: middle;\n",
       "    }\n",
       "\n",
       "    .dataframe tbody tr th {\n",
       "        vertical-align: top;\n",
       "    }\n",
       "\n",
       "    .dataframe thead th {\n",
       "        text-align: right;\n",
       "    }\n",
       "</style>\n",
       "<table border=\"1\" class=\"dataframe\">\n",
       "  <thead>\n",
       "    <tr style=\"text-align: right;\">\n",
       "      <th></th>\n",
       "      <th>Product_Name</th>\n",
       "      <th>Product_Url</th>\n",
       "      <th>Original_Price</th>\n",
       "      <th>Discount_Price</th>\n",
       "      <th>Discount_Percentage</th>\n",
       "      <th>Stars</th>\n",
       "      <th>Ratings</th>\n",
       "      <th>Reviews</th>\n",
       "    </tr>\n",
       "  </thead>\n",
       "  <tbody>\n",
       "    <tr>\n",
       "      <th>0</th>\n",
       "      <td>Lakme 9 To 5 Wet &amp; Dry Compact</td>\n",
       "      <td>https://nykaa.com/lakme-9-to-5-wet-dry-compact...</td>\n",
       "      <td>650</td>\n",
       "      <td>423</td>\n",
       "      <td>35</td>\n",
       "      <td>4.2</td>\n",
       "      <td>218</td>\n",
       "      <td>9 reviews</td>\n",
       "    </tr>\n",
       "    <tr>\n",
       "      <th>1</th>\n",
       "      <td>Nykaa Cosmetics So Creme! Creamy Matte Lipstick</td>\n",
       "      <td>https://nykaa.com/nykaa-so-creme-creamy-matte-...</td>\n",
       "      <td>329</td>\n",
       "      <td>247</td>\n",
       "      <td>25</td>\n",
       "      <td>4.3</td>\n",
       "      <td>87432</td>\n",
       "      <td>9431 reviews</td>\n",
       "    </tr>\n",
       "    <tr>\n",
       "      <th>2</th>\n",
       "      <td>Faces Canada Comfy Matte Lip Color</td>\n",
       "      <td>https://nykaa.com/faces-canada-comfy-matte-lip...</td>\n",
       "      <td>399</td>\n",
       "      <td>279</td>\n",
       "      <td>30</td>\n",
       "      <td>4.3</td>\n",
       "      <td>10696</td>\n",
       "      <td>1220 reviews</td>\n",
       "    </tr>\n",
       "    <tr>\n",
       "      <th>3</th>\n",
       "      <td>Kay Beauty Matte Blush</td>\n",
       "      <td>https://nykaa.com/kay-beauty-matte-blush/p/108...</td>\n",
       "      <td>899</td>\n",
       "      <td>629</td>\n",
       "      <td>30</td>\n",
       "      <td>4.5</td>\n",
       "      <td>6313</td>\n",
       "      <td>1196 reviews</td>\n",
       "    </tr>\n",
       "    <tr>\n",
       "      <th>4</th>\n",
       "      <td>Elle 18 Kajal Love Combo</td>\n",
       "      <td>https://nykaa.com/elle-18-party-starter-kit/p/...</td>\n",
       "      <td>198</td>\n",
       "      <td>168</td>\n",
       "      <td>15</td>\n",
       "      <td>4.4</td>\n",
       "      <td>26997</td>\n",
       "      <td>19 reviews</td>\n",
       "    </tr>\n",
       "  </tbody>\n",
       "</table>\n",
       "</div>"
      ],
      "text/plain": [
       "                                      Product_Name  \\\n",
       "0                   Lakme 9 To 5 Wet & Dry Compact   \n",
       "1  Nykaa Cosmetics So Creme! Creamy Matte Lipstick   \n",
       "2               Faces Canada Comfy Matte Lip Color   \n",
       "3                           Kay Beauty Matte Blush   \n",
       "4                         Elle 18 Kajal Love Combo   \n",
       "\n",
       "                                         Product_Url Original_Price  \\\n",
       "0  https://nykaa.com/lakme-9-to-5-wet-dry-compact...            650   \n",
       "1  https://nykaa.com/nykaa-so-creme-creamy-matte-...            329   \n",
       "2  https://nykaa.com/faces-canada-comfy-matte-lip...            399   \n",
       "3  https://nykaa.com/kay-beauty-matte-blush/p/108...            899   \n",
       "4  https://nykaa.com/elle-18-party-starter-kit/p/...            198   \n",
       "\n",
       "  Discount_Price Discount_Percentage Stars Ratings       Reviews  \n",
       "0            423                  35   4.2     218     9 reviews  \n",
       "1            247                  25   4.3   87432  9431 reviews  \n",
       "2            279                  30   4.3   10696  1220 reviews  \n",
       "3            629                  30   4.5    6313  1196 reviews  \n",
       "4            168                  15   4.4   26997    19 reviews  "
      ]
     },
     "execution_count": 15,
     "metadata": {},
     "output_type": "execute_result"
    }
   ],
   "source": [
    "nykaa.head()"
   ]
  },
  {
   "cell_type": "code",
   "execution_count": 16,
   "id": "47bf4b62",
   "metadata": {},
   "outputs": [],
   "source": [
    "#reviews\n",
    "nykaa[\"Reviews\"].fillna(\"0 reviews\", inplace = True)\n",
    "l = []\n",
    "col = nykaa[\"Reviews\"].to_list()\n",
    "for i in col:\n",
    "    x = i.split()\n",
    "    l.append(x[0])\n",
    "nykaa[\"Reviews\"] = l"
   ]
  },
  {
   "cell_type": "code",
   "execution_count": 17,
   "id": "1927031f",
   "metadata": {},
   "outputs": [
    {
     "data": {
      "text/html": [
       "<div>\n",
       "<style scoped>\n",
       "    .dataframe tbody tr th:only-of-type {\n",
       "        vertical-align: middle;\n",
       "    }\n",
       "\n",
       "    .dataframe tbody tr th {\n",
       "        vertical-align: top;\n",
       "    }\n",
       "\n",
       "    .dataframe thead th {\n",
       "        text-align: right;\n",
       "    }\n",
       "</style>\n",
       "<table border=\"1\" class=\"dataframe\">\n",
       "  <thead>\n",
       "    <tr style=\"text-align: right;\">\n",
       "      <th></th>\n",
       "      <th>Product_Name</th>\n",
       "      <th>Product_Url</th>\n",
       "      <th>Original_Price</th>\n",
       "      <th>Discount_Price</th>\n",
       "      <th>Discount_Percentage</th>\n",
       "      <th>Stars</th>\n",
       "      <th>Ratings</th>\n",
       "      <th>Reviews</th>\n",
       "    </tr>\n",
       "  </thead>\n",
       "  <tbody>\n",
       "    <tr>\n",
       "      <th>0</th>\n",
       "      <td>Lakme 9 To 5 Wet &amp; Dry Compact</td>\n",
       "      <td>https://nykaa.com/lakme-9-to-5-wet-dry-compact...</td>\n",
       "      <td>650</td>\n",
       "      <td>423</td>\n",
       "      <td>35</td>\n",
       "      <td>4.2</td>\n",
       "      <td>218</td>\n",
       "      <td>9</td>\n",
       "    </tr>\n",
       "    <tr>\n",
       "      <th>1</th>\n",
       "      <td>Nykaa Cosmetics So Creme! Creamy Matte Lipstick</td>\n",
       "      <td>https://nykaa.com/nykaa-so-creme-creamy-matte-...</td>\n",
       "      <td>329</td>\n",
       "      <td>247</td>\n",
       "      <td>25</td>\n",
       "      <td>4.3</td>\n",
       "      <td>87432</td>\n",
       "      <td>9431</td>\n",
       "    </tr>\n",
       "    <tr>\n",
       "      <th>2</th>\n",
       "      <td>Faces Canada Comfy Matte Lip Color</td>\n",
       "      <td>https://nykaa.com/faces-canada-comfy-matte-lip...</td>\n",
       "      <td>399</td>\n",
       "      <td>279</td>\n",
       "      <td>30</td>\n",
       "      <td>4.3</td>\n",
       "      <td>10696</td>\n",
       "      <td>1220</td>\n",
       "    </tr>\n",
       "    <tr>\n",
       "      <th>3</th>\n",
       "      <td>Kay Beauty Matte Blush</td>\n",
       "      <td>https://nykaa.com/kay-beauty-matte-blush/p/108...</td>\n",
       "      <td>899</td>\n",
       "      <td>629</td>\n",
       "      <td>30</td>\n",
       "      <td>4.5</td>\n",
       "      <td>6313</td>\n",
       "      <td>1196</td>\n",
       "    </tr>\n",
       "    <tr>\n",
       "      <th>4</th>\n",
       "      <td>Elle 18 Kajal Love Combo</td>\n",
       "      <td>https://nykaa.com/elle-18-party-starter-kit/p/...</td>\n",
       "      <td>198</td>\n",
       "      <td>168</td>\n",
       "      <td>15</td>\n",
       "      <td>4.4</td>\n",
       "      <td>26997</td>\n",
       "      <td>19</td>\n",
       "    </tr>\n",
       "  </tbody>\n",
       "</table>\n",
       "</div>"
      ],
      "text/plain": [
       "                                      Product_Name  \\\n",
       "0                   Lakme 9 To 5 Wet & Dry Compact   \n",
       "1  Nykaa Cosmetics So Creme! Creamy Matte Lipstick   \n",
       "2               Faces Canada Comfy Matte Lip Color   \n",
       "3                           Kay Beauty Matte Blush   \n",
       "4                         Elle 18 Kajal Love Combo   \n",
       "\n",
       "                                         Product_Url Original_Price  \\\n",
       "0  https://nykaa.com/lakme-9-to-5-wet-dry-compact...            650   \n",
       "1  https://nykaa.com/nykaa-so-creme-creamy-matte-...            329   \n",
       "2  https://nykaa.com/faces-canada-comfy-matte-lip...            399   \n",
       "3  https://nykaa.com/kay-beauty-matte-blush/p/108...            899   \n",
       "4  https://nykaa.com/elle-18-party-starter-kit/p/...            198   \n",
       "\n",
       "  Discount_Price Discount_Percentage Stars Ratings Reviews  \n",
       "0            423                  35   4.2     218       9  \n",
       "1            247                  25   4.3   87432    9431  \n",
       "2            279                  30   4.3   10696    1220  \n",
       "3            629                  30   4.5    6313    1196  \n",
       "4            168                  15   4.4   26997      19  "
      ]
     },
     "execution_count": 17,
     "metadata": {},
     "output_type": "execute_result"
    }
   ],
   "source": [
    "nykaa.head()"
   ]
  },
  {
   "cell_type": "code",
   "execution_count": 18,
   "id": "08f6f3a3",
   "metadata": {},
   "outputs": [],
   "source": [
    "l = []\n",
    "col = nykaa[\"Product_Url\"].to_list()\n",
    "for i in col:\n",
    "    x = i.split(\"=\")\n",
    "    l.append(x[1][:-4])\n",
    "nykaa[\"Order_ID\"] = l"
   ]
  },
  {
   "cell_type": "code",
   "execution_count": 19,
   "id": "de850a56",
   "metadata": {},
   "outputs": [
    {
     "data": {
      "text/html": [
       "<div>\n",
       "<style scoped>\n",
       "    .dataframe tbody tr th:only-of-type {\n",
       "        vertical-align: middle;\n",
       "    }\n",
       "\n",
       "    .dataframe tbody tr th {\n",
       "        vertical-align: top;\n",
       "    }\n",
       "\n",
       "    .dataframe thead th {\n",
       "        text-align: right;\n",
       "    }\n",
       "</style>\n",
       "<table border=\"1\" class=\"dataframe\">\n",
       "  <thead>\n",
       "    <tr style=\"text-align: right;\">\n",
       "      <th></th>\n",
       "      <th>Product_Name</th>\n",
       "      <th>Product_Url</th>\n",
       "      <th>Original_Price</th>\n",
       "      <th>Discount_Price</th>\n",
       "      <th>Discount_Percentage</th>\n",
       "      <th>Stars</th>\n",
       "      <th>Ratings</th>\n",
       "      <th>Reviews</th>\n",
       "      <th>Order_ID</th>\n",
       "    </tr>\n",
       "  </thead>\n",
       "  <tbody>\n",
       "    <tr>\n",
       "      <th>0</th>\n",
       "      <td>Lakme 9 To 5 Wet &amp; Dry Compact</td>\n",
       "      <td>https://nykaa.com/lakme-9-to-5-wet-dry-compact...</td>\n",
       "      <td>650</td>\n",
       "      <td>423</td>\n",
       "      <td>35</td>\n",
       "      <td>4.2</td>\n",
       "      <td>218</td>\n",
       "      <td>9</td>\n",
       "      <td>8032457</td>\n",
       "    </tr>\n",
       "    <tr>\n",
       "      <th>1</th>\n",
       "      <td>Nykaa Cosmetics So Creme! Creamy Matte Lipstick</td>\n",
       "      <td>https://nykaa.com/nykaa-so-creme-creamy-matte-...</td>\n",
       "      <td>329</td>\n",
       "      <td>247</td>\n",
       "      <td>25</td>\n",
       "      <td>4.3</td>\n",
       "      <td>87432</td>\n",
       "      <td>9431</td>\n",
       "      <td>683166</td>\n",
       "    </tr>\n",
       "    <tr>\n",
       "      <th>2</th>\n",
       "      <td>Faces Canada Comfy Matte Lip Color</td>\n",
       "      <td>https://nykaa.com/faces-canada-comfy-matte-lip...</td>\n",
       "      <td>399</td>\n",
       "      <td>279</td>\n",
       "      <td>30</td>\n",
       "      <td>4.3</td>\n",
       "      <td>10696</td>\n",
       "      <td>1220</td>\n",
       "      <td>3814093</td>\n",
       "    </tr>\n",
       "    <tr>\n",
       "      <th>3</th>\n",
       "      <td>Kay Beauty Matte Blush</td>\n",
       "      <td>https://nykaa.com/kay-beauty-matte-blush/p/108...</td>\n",
       "      <td>899</td>\n",
       "      <td>629</td>\n",
       "      <td>30</td>\n",
       "      <td>4.5</td>\n",
       "      <td>6313</td>\n",
       "      <td>1196</td>\n",
       "      <td>1080669</td>\n",
       "    </tr>\n",
       "    <tr>\n",
       "      <th>4</th>\n",
       "      <td>Elle 18 Kajal Love Combo</td>\n",
       "      <td>https://nykaa.com/elle-18-party-starter-kit/p/...</td>\n",
       "      <td>198</td>\n",
       "      <td>168</td>\n",
       "      <td>15</td>\n",
       "      <td>4.4</td>\n",
       "      <td>26997</td>\n",
       "      <td>19</td>\n",
       "      <td>747571</td>\n",
       "    </tr>\n",
       "  </tbody>\n",
       "</table>\n",
       "</div>"
      ],
      "text/plain": [
       "                                      Product_Name  \\\n",
       "0                   Lakme 9 To 5 Wet & Dry Compact   \n",
       "1  Nykaa Cosmetics So Creme! Creamy Matte Lipstick   \n",
       "2               Faces Canada Comfy Matte Lip Color   \n",
       "3                           Kay Beauty Matte Blush   \n",
       "4                         Elle 18 Kajal Love Combo   \n",
       "\n",
       "                                         Product_Url Original_Price  \\\n",
       "0  https://nykaa.com/lakme-9-to-5-wet-dry-compact...            650   \n",
       "1  https://nykaa.com/nykaa-so-creme-creamy-matte-...            329   \n",
       "2  https://nykaa.com/faces-canada-comfy-matte-lip...            399   \n",
       "3  https://nykaa.com/kay-beauty-matte-blush/p/108...            899   \n",
       "4  https://nykaa.com/elle-18-party-starter-kit/p/...            198   \n",
       "\n",
       "  Discount_Price Discount_Percentage Stars Ratings Reviews Order_ID  \n",
       "0            423                  35   4.2     218       9  8032457  \n",
       "1            247                  25   4.3   87432    9431   683166  \n",
       "2            279                  30   4.3   10696    1220  3814093  \n",
       "3            629                  30   4.5    6313    1196  1080669  \n",
       "4            168                  15   4.4   26997      19   747571  "
      ]
     },
     "execution_count": 19,
     "metadata": {},
     "output_type": "execute_result"
    }
   ],
   "source": [
    "nykaa.head()"
   ]
  },
  {
   "cell_type": "code",
   "execution_count": 20,
   "id": "7db838d4",
   "metadata": {},
   "outputs": [],
   "source": [
    "#rename column stars\n",
    "nykaa.rename(columns = {\"Stars\":\"Overall_Rating_Out_Of_5\"}, inplace = True)"
   ]
  },
  {
   "cell_type": "code",
   "execution_count": 21,
   "id": "66e3f29e",
   "metadata": {},
   "outputs": [],
   "source": [
    "nykaa_products = [\"Order_ID\", \"Product_Name\", \"Product_Url\", \"Original_Price\", \"Discount_Price\", \n",
    "      \"Discount_Percentage\", \"Ratings\", \"Reviews\", \"Overall_Rating_Out_Of_5\"]\n",
    "nykaa = nykaa[nykaa_products]\n",
    "nykaa.to_csv(\"nykaa_makeup_products_cleaned.csv\")"
   ]
  },
  {
   "cell_type": "code",
   "execution_count": 85,
   "id": "2242296f",
   "metadata": {},
   "outputs": [
    {
     "data": {
      "text/html": [
       "<div>\n",
       "<style scoped>\n",
       "    .dataframe tbody tr th:only-of-type {\n",
       "        vertical-align: middle;\n",
       "    }\n",
       "\n",
       "    .dataframe tbody tr th {\n",
       "        vertical-align: top;\n",
       "    }\n",
       "\n",
       "    .dataframe thead th {\n",
       "        text-align: right;\n",
       "    }\n",
       "</style>\n",
       "<table border=\"1\" class=\"dataframe\">\n",
       "  <thead>\n",
       "    <tr style=\"text-align: right;\">\n",
       "      <th></th>\n",
       "      <th>Product Name</th>\n",
       "      <th>Product Url</th>\n",
       "      <th>Original Price</th>\n",
       "      <th>Discount Price</th>\n",
       "      <th>Discount Percentage</th>\n",
       "      <th>Stars</th>\n",
       "      <th>Ratings</th>\n",
       "      <th>Reviews</th>\n",
       "    </tr>\n",
       "  </thead>\n",
       "  <tbody>\n",
       "    <tr>\n",
       "      <th>0</th>\n",
       "      <td>Lakme 9 To 5 Wet &amp; Dry Compact</td>\n",
       "      <td>https://nykaa.com/lakme-9-to-5-wet-dry-compact...</td>\n",
       "      <td>MRP:₹650</td>\n",
       "      <td>₹423</td>\n",
       "      <td>35% Off</td>\n",
       "      <td>4.2/5</td>\n",
       "      <td>218 ratings</td>\n",
       "      <td>9 reviews</td>\n",
       "    </tr>\n",
       "    <tr>\n",
       "      <th>1</th>\n",
       "      <td>Nykaa Cosmetics So Creme! Creamy Matte Lipstick</td>\n",
       "      <td>https://nykaa.com/nykaa-so-creme-creamy-matte-...</td>\n",
       "      <td>MRP:₹329</td>\n",
       "      <td>₹247</td>\n",
       "      <td>25% Off</td>\n",
       "      <td>4.3/5</td>\n",
       "      <td>87432 ratings</td>\n",
       "      <td>9431 reviews</td>\n",
       "    </tr>\n",
       "    <tr>\n",
       "      <th>2</th>\n",
       "      <td>Faces Canada Comfy Matte Lip Color</td>\n",
       "      <td>https://nykaa.com/faces-canada-comfy-matte-lip...</td>\n",
       "      <td>MRP:₹399</td>\n",
       "      <td>₹279</td>\n",
       "      <td>30% Off</td>\n",
       "      <td>4.3/5</td>\n",
       "      <td>10696 ratings</td>\n",
       "      <td>1220 reviews</td>\n",
       "    </tr>\n",
       "    <tr>\n",
       "      <th>3</th>\n",
       "      <td>Kay Beauty Matte Blush</td>\n",
       "      <td>https://nykaa.com/kay-beauty-matte-blush/p/108...</td>\n",
       "      <td>MRP:₹899</td>\n",
       "      <td>₹629</td>\n",
       "      <td>30% Off</td>\n",
       "      <td>4.5/5</td>\n",
       "      <td>6313 ratings</td>\n",
       "      <td>1196 reviews</td>\n",
       "    </tr>\n",
       "    <tr>\n",
       "      <th>4</th>\n",
       "      <td>Elle 18 Kajal Love Combo</td>\n",
       "      <td>https://nykaa.com/elle-18-party-starter-kit/p/...</td>\n",
       "      <td>MRP:₹198</td>\n",
       "      <td>₹168</td>\n",
       "      <td>15% Off</td>\n",
       "      <td>4.4/5</td>\n",
       "      <td>26997 ratings</td>\n",
       "      <td>19 reviews</td>\n",
       "    </tr>\n",
       "    <tr>\n",
       "      <th>...</th>\n",
       "      <td>...</td>\n",
       "      <td>...</td>\n",
       "      <td>...</td>\n",
       "      <td>...</td>\n",
       "      <td>...</td>\n",
       "      <td>...</td>\n",
       "      <td>...</td>\n",
       "      <td>...</td>\n",
       "    </tr>\n",
       "    <tr>\n",
       "      <th>1095</th>\n",
       "      <td>Miss Claire One Stroke Kajal - Super Black</td>\n",
       "      <td>https://nykaa.com/miss-claire-one-stroke-kajal...</td>\n",
       "      <td>MRP:₹95</td>\n",
       "      <td>₹48</td>\n",
       "      <td>50% Off</td>\n",
       "      <td>4.3/5</td>\n",
       "      <td>751 ratings</td>\n",
       "      <td>85 reviews</td>\n",
       "    </tr>\n",
       "    <tr>\n",
       "      <th>1096</th>\n",
       "      <td>Nykaa Cosmetics Insta Dry Nail Enamel - Reelin...</td>\n",
       "      <td>https://nykaa.com/nykaa-insta-dry-nail-enamel-...</td>\n",
       "      <td>MRP:₹916</td>\n",
       "      <td>₹779</td>\n",
       "      <td>15% Off</td>\n",
       "      <td>4.4/5</td>\n",
       "      <td>16 ratings</td>\n",
       "      <td>1 reviews</td>\n",
       "    </tr>\n",
       "    <tr>\n",
       "      <th>1097</th>\n",
       "      <td>Princess By Renee Cosmetics Unicorn Makeup Kit</td>\n",
       "      <td>https://nykaa.com/renee-cosmetics-unicorn-make...</td>\n",
       "      <td>MRP:₹950</td>\n",
       "      <td>₹759</td>\n",
       "      <td>20% Off</td>\n",
       "      <td>4.2/5</td>\n",
       "      <td>86 ratings</td>\n",
       "      <td>10 reviews</td>\n",
       "    </tr>\n",
       "    <tr>\n",
       "      <th>1098</th>\n",
       "      <td>Insight Cosmetics Beauty Blender Sponge Applic...</td>\n",
       "      <td>https://nykaa.com/insight-cosmetics-beauty-ble...</td>\n",
       "      <td>MRP:₹130</td>\n",
       "      <td>₹104</td>\n",
       "      <td>20% Off</td>\n",
       "      <td>4.5/5</td>\n",
       "      <td>1018 ratings</td>\n",
       "      <td>50 reviews</td>\n",
       "    </tr>\n",
       "    <tr>\n",
       "      <th>1099</th>\n",
       "      <td>Benefit Cosmetics Love Tint - Fiery Red</td>\n",
       "      <td>https://nykaa.com/benefit-cosmetics-love-tint-...</td>\n",
       "      <td>MRP:</td>\n",
       "      <td>₹1950</td>\n",
       "      <td>NaN</td>\n",
       "      <td>4.3/5</td>\n",
       "      <td>397 ratings</td>\n",
       "      <td>91 reviews</td>\n",
       "    </tr>\n",
       "  </tbody>\n",
       "</table>\n",
       "<p>1100 rows × 8 columns</p>\n",
       "</div>"
      ],
      "text/plain": [
       "                                           Product Name  \\\n",
       "0                        Lakme 9 To 5 Wet & Dry Compact   \n",
       "1       Nykaa Cosmetics So Creme! Creamy Matte Lipstick   \n",
       "2                    Faces Canada Comfy Matte Lip Color   \n",
       "3                                Kay Beauty Matte Blush   \n",
       "4                              Elle 18 Kajal Love Combo   \n",
       "...                                                 ...   \n",
       "1095         Miss Claire One Stroke Kajal - Super Black   \n",
       "1096  Nykaa Cosmetics Insta Dry Nail Enamel - Reelin...   \n",
       "1097     Princess By Renee Cosmetics Unicorn Makeup Kit   \n",
       "1098  Insight Cosmetics Beauty Blender Sponge Applic...   \n",
       "1099            Benefit Cosmetics Love Tint - Fiery Red   \n",
       "\n",
       "                                            Product Url Original Price  \\\n",
       "0     https://nykaa.com/lakme-9-to-5-wet-dry-compact...       MRP:₹650   \n",
       "1     https://nykaa.com/nykaa-so-creme-creamy-matte-...       MRP:₹329   \n",
       "2     https://nykaa.com/faces-canada-comfy-matte-lip...       MRP:₹399   \n",
       "3     https://nykaa.com/kay-beauty-matte-blush/p/108...       MRP:₹899   \n",
       "4     https://nykaa.com/elle-18-party-starter-kit/p/...       MRP:₹198   \n",
       "...                                                 ...            ...   \n",
       "1095  https://nykaa.com/miss-claire-one-stroke-kajal...        MRP:₹95   \n",
       "1096  https://nykaa.com/nykaa-insta-dry-nail-enamel-...       MRP:₹916   \n",
       "1097  https://nykaa.com/renee-cosmetics-unicorn-make...       MRP:₹950   \n",
       "1098  https://nykaa.com/insight-cosmetics-beauty-ble...       MRP:₹130   \n",
       "1099  https://nykaa.com/benefit-cosmetics-love-tint-...           MRP:   \n",
       "\n",
       "     Discount Price Discount Percentage  Stars          Ratings       Reviews  \n",
       "0              ₹423             35% Off  4.2/5    218 ratings       9 reviews  \n",
       "1              ₹247             25% Off  4.3/5  87432 ratings    9431 reviews  \n",
       "2              ₹279             30% Off  4.3/5  10696 ratings    1220 reviews  \n",
       "3              ₹629             30% Off  4.5/5   6313 ratings    1196 reviews  \n",
       "4              ₹168             15% Off  4.4/5  26997 ratings      19 reviews  \n",
       "...             ...                 ...    ...              ...           ...  \n",
       "1095            ₹48             50% Off  4.3/5    751 ratings      85 reviews  \n",
       "1096           ₹779             15% Off  4.4/5     16 ratings       1 reviews  \n",
       "1097           ₹759             20% Off  4.2/5     86 ratings      10 reviews  \n",
       "1098           ₹104             20% Off  4.5/5   1018 ratings      50 reviews  \n",
       "1099          ₹1950                 NaN  4.3/5    397 ratings      91 reviews  \n",
       "\n",
       "[1100 rows x 8 columns]"
      ]
     },
     "execution_count": 85,
     "metadata": {},
     "output_type": "execute_result"
    }
   ],
   "source": [
    "nykaa"
   ]
  },
  {
   "cell_type": "code",
   "execution_count": 23,
   "id": "f0b5f70d",
   "metadata": {},
   "outputs": [],
   "source": [
    "nykaa[\"Original_Price\"] = pd.to_numeric(nykaa[\"Original_Price\"], errors = \"coerce\")\n",
    "nykaa[\"Discount_Price\"] = pd.to_numeric(nykaa[\"Discount_Price\"], errors = \"coerce\")\n",
    "nykaa[\"Discount_Percentage\"] = pd.to_numeric(nykaa[\"Discount_Percentage\"], errors = \"coerce\")\n",
    "nykaa[\"Ratings\"] = pd.to_numeric(nykaa[\"Ratings\"], errors = \"coerce\")\n",
    "nykaa[\"Reviews\"] = pd.to_numeric(nykaa[\"Reviews\"], errors = \"coerce\")\n",
    "nykaa[\"Overall_Rating_Out_Of_5\"] = pd.to_numeric(nykaa[\"Overall_Rating_Out_Of_5\"], errors = \"coerce\")"
   ]
  },
  {
   "cell_type": "code",
   "execution_count": 25,
   "id": "8734d91b",
   "metadata": {},
   "outputs": [
    {
     "data": {
      "text/plain": [
       "Order_ID                   0\n",
       "Product_Name               0\n",
       "Product_Url                0\n",
       "Original_Price             0\n",
       "Discount_Price             0\n",
       "Discount_Percentage        0\n",
       "Ratings                    0\n",
       "Reviews                    0\n",
       "Overall_Rating_Out_Of_5    0\n",
       "dtype: int64"
      ]
     },
     "execution_count": 25,
     "metadata": {},
     "output_type": "execute_result"
    }
   ],
   "source": [
    "nykaa.isnull().sum()"
   ]
  },
  {
   "cell_type": "code",
   "execution_count": 78,
   "id": "d0368126",
   "metadata": {},
   "outputs": [
    {
     "data": {
      "text/plain": [
       "Order_ID                     object\n",
       "Product_Name                 object\n",
       "Product_Url                  object\n",
       "Original_Price              float64\n",
       "Discount_Price              float64\n",
       "Discount_Percentage         float64\n",
       "Ratings                     float64\n",
       "Reviews                     float64\n",
       "Overall_Rating_Out_Of_5     float64\n",
       "Discount_Price_Range       category\n",
       "dtype: object"
      ]
     },
     "execution_count": 78,
     "metadata": {},
     "output_type": "execute_result"
    }
   ],
   "source": [
    "nykaa.dtypes"
   ]
  },
  {
   "cell_type": "code",
   "execution_count": 27,
   "id": "11374770",
   "metadata": {},
   "outputs": [
    {
     "data": {
      "text/html": [
       "<div>\n",
       "<style scoped>\n",
       "    .dataframe tbody tr th:only-of-type {\n",
       "        vertical-align: middle;\n",
       "    }\n",
       "\n",
       "    .dataframe tbody tr th {\n",
       "        vertical-align: top;\n",
       "    }\n",
       "\n",
       "    .dataframe thead th {\n",
       "        text-align: right;\n",
       "    }\n",
       "</style>\n",
       "<table border=\"1\" class=\"dataframe\">\n",
       "  <thead>\n",
       "    <tr style=\"text-align: right;\">\n",
       "      <th></th>\n",
       "      <th>Original_Price</th>\n",
       "      <th>Discount_Price</th>\n",
       "      <th>Discount_Percentage</th>\n",
       "      <th>Ratings</th>\n",
       "      <th>Reviews</th>\n",
       "      <th>Overall_Rating_Out_Of_5</th>\n",
       "    </tr>\n",
       "  </thead>\n",
       "  <tbody>\n",
       "    <tr>\n",
       "      <th>count</th>\n",
       "      <td>1100.000000</td>\n",
       "      <td>1100.000000</td>\n",
       "      <td>1100.000000</td>\n",
       "      <td>1100.000000</td>\n",
       "      <td>1100.000000</td>\n",
       "      <td>1100.000000</td>\n",
       "    </tr>\n",
       "    <tr>\n",
       "      <th>mean</th>\n",
       "      <td>958.277273</td>\n",
       "      <td>839.739091</td>\n",
       "      <td>17.671818</td>\n",
       "      <td>6936.182727</td>\n",
       "      <td>796.991818</td>\n",
       "      <td>4.322818</td>\n",
       "    </tr>\n",
       "    <tr>\n",
       "      <th>std</th>\n",
       "      <td>1684.578813</td>\n",
       "      <td>1528.809356</td>\n",
       "      <td>13.129873</td>\n",
       "      <td>13668.228145</td>\n",
       "      <td>1734.128491</td>\n",
       "      <td>0.252156</td>\n",
       "    </tr>\n",
       "    <tr>\n",
       "      <th>min</th>\n",
       "      <td>45.000000</td>\n",
       "      <td>33.000000</td>\n",
       "      <td>0.000000</td>\n",
       "      <td>0.000000</td>\n",
       "      <td>0.000000</td>\n",
       "      <td>0.000000</td>\n",
       "    </tr>\n",
       "    <tr>\n",
       "      <th>25%</th>\n",
       "      <td>258.000000</td>\n",
       "      <td>210.000000</td>\n",
       "      <td>10.000000</td>\n",
       "      <td>548.000000</td>\n",
       "      <td>58.000000</td>\n",
       "      <td>4.300000</td>\n",
       "    </tr>\n",
       "    <tr>\n",
       "      <th>50%</th>\n",
       "      <td>549.000000</td>\n",
       "      <td>424.500000</td>\n",
       "      <td>18.500000</td>\n",
       "      <td>1998.500000</td>\n",
       "      <td>215.500000</td>\n",
       "      <td>4.400000</td>\n",
       "    </tr>\n",
       "    <tr>\n",
       "      <th>75%</th>\n",
       "      <td>923.750000</td>\n",
       "      <td>741.750000</td>\n",
       "      <td>25.000000</td>\n",
       "      <td>6558.750000</td>\n",
       "      <td>739.250000</td>\n",
       "      <td>4.400000</td>\n",
       "    </tr>\n",
       "    <tr>\n",
       "      <th>max</th>\n",
       "      <td>37500.000000</td>\n",
       "      <td>31875.000000</td>\n",
       "      <td>71.000000</td>\n",
       "      <td>105717.000000</td>\n",
       "      <td>16132.000000</td>\n",
       "      <td>4.800000</td>\n",
       "    </tr>\n",
       "  </tbody>\n",
       "</table>\n",
       "</div>"
      ],
      "text/plain": [
       "       Original_Price  Discount_Price  Discount_Percentage        Ratings  \\\n",
       "count     1100.000000     1100.000000          1100.000000    1100.000000   \n",
       "mean       958.277273      839.739091            17.671818    6936.182727   \n",
       "std       1684.578813     1528.809356            13.129873   13668.228145   \n",
       "min         45.000000       33.000000             0.000000       0.000000   \n",
       "25%        258.000000      210.000000            10.000000     548.000000   \n",
       "50%        549.000000      424.500000            18.500000    1998.500000   \n",
       "75%        923.750000      741.750000            25.000000    6558.750000   \n",
       "max      37500.000000    31875.000000            71.000000  105717.000000   \n",
       "\n",
       "            Reviews  Overall_Rating_Out_Of_5  \n",
       "count   1100.000000              1100.000000  \n",
       "mean     796.991818                 4.322818  \n",
       "std     1734.128491                 0.252156  \n",
       "min        0.000000                 0.000000  \n",
       "25%       58.000000                 4.300000  \n",
       "50%      215.500000                 4.400000  \n",
       "75%      739.250000                 4.400000  \n",
       "max    16132.000000                 4.800000  "
      ]
     },
     "execution_count": 27,
     "metadata": {},
     "output_type": "execute_result"
    }
   ],
   "source": [
    "nykaa.describe()"
   ]
  },
  {
   "cell_type": "markdown",
   "id": "8ba43cad",
   "metadata": {},
   "source": [
    "## Numerical Analysis "
   ]
  },
  {
   "cell_type": "code",
   "execution_count": 45,
   "id": "073f01aa",
   "metadata": {},
   "outputs": [
    {
     "data": {
      "text/plain": [
       "Index(['Original_Price', 'Discount_Price', 'Discount_Percentage', 'Ratings',\n",
       "       'Reviews', 'Overall_Rating_Out_Of_5', 'Discount_Price_Range'],\n",
       "      dtype='object')"
      ]
     },
     "execution_count": 45,
     "metadata": {},
     "output_type": "execute_result"
    }
   ],
   "source": [
    "nykaa.dtypes[nykaa.dtypes != \"object\"].index"
   ]
  },
  {
   "cell_type": "code",
   "execution_count": 79,
   "id": "1569b747",
   "metadata": {},
   "outputs": [],
   "source": [
    "def numerical_analysis(data, col):\n",
    "    missing = data[col].isnull().sum()\n",
    "    min_val = round(data[col].min(), 2)\n",
    "    max_val = round(data[col].max(), 2)\n",
    "    mean = round(data[col].mean(), 2)\n",
    "    var = round(data[col].var(), 2)\n",
    "    std = round(data[col].std(), 2)\n",
    "    range_val = round(max_val - min_val, 2)\n",
    "    q1 = round(data[col].quantile(.25), 2)\n",
    "    q2 = round(data[col].quantile(.5), 2)\n",
    "    q3 = round(data[col].quantile(.75), 2)\n",
    "    skew = round(data[col].skew(), 2)\n",
    "    kurt = round(data[col].kurt(), 2)\n",
    "    my_val = {\"missing\" : missing, \"min\" : min_val, \"max\" : max_val, \"mean\" : mean,\n",
    "             \"var\" : var,\"std\" : std, \"range\" : range_val,\"q1\" : q1, \"q2\" : q2,\"q3\" : q3,\n",
    "            \"skewness\" : skew, \"kurtosis\" : kurt}\n",
    "    sns.histplot(data[col])\n",
    "    plt.show()\n",
    "    sns.boxplot(data = data, y = data[col])\n",
    "    plt.show()\n",
    "    return my_val"
   ]
  },
  {
   "cell_type": "code",
   "execution_count": 81,
   "id": "da3b3b08",
   "metadata": {},
   "outputs": [
    {
     "data": {
      "image/png": "[encoded data removed]",
      "text/plain": [
       "<Figure size 640x480 with 1 Axes>"
      ]
     },
     "metadata": {},
     "output_type": "display_data"
    },
    {
     "data": {
      "image/png": "[encoded data removed]",
      "text/plain": [
       "<Figure size 640x480 with 1 Axes>"
      ]
     },
     "metadata": {},
     "output_type": "display_data"
    },
    {
     "data": {
      "text/plain": [
       "{'missing': 0,\n",
       " 'min': 45.0,\n",
       " 'max': 1922.38,\n",
       " 'mean': 725.42,\n",
       " 'var': 348434.37,\n",
       " 'std': 590.28,\n",
       " 'range': 1877.38,\n",
       " 'q1': 258.0,\n",
       " 'q2': 549.0,\n",
       " 'q3': 923.75,\n",
       " 'skewness': 1.03,\n",
       " 'kurtosis': -0.19}"
      ]
     },
     "execution_count": 81,
     "metadata": {},
     "output_type": "execute_result"
    }
   ],
   "source": [
    "numerical_analysis(data = nykaa, col = \"Original_Price\")"
   ]
  },
  {
   "cell_type": "code",
   "execution_count": 50,
   "id": "a4c05b27",
   "metadata": {},
   "outputs": [
    {
     "data": {
      "image/png": "[encoded data removed]",
      "text/plain": [
       "<Figure size 640x480 with 1 Axes>"
      ]
     },
     "metadata": {},
     "output_type": "display_data"
    },
    {
     "data": {
      "image/png": "[encoded data removed]",
      "text/plain": [
       "<Figure size 640x480 with 1 Axes>"
      ]
     },
     "metadata": {},
     "output_type": "display_data"
    },
    {
     "data": {
      "text/plain": [
       "{'missing': 0,\n",
       " 'min': 33,\n",
       " 'max': 31875,\n",
       " 'mean': 839.74,\n",
       " 'var': 2337258.05,\n",
       " 'std': 1528.81,\n",
       " 'range': 31842,\n",
       " 'q1': 210.0,\n",
       " 'q2': 424.5,\n",
       " 'q3': 741.75,\n",
       " 'skewness': 9.94,\n",
       " 'kurtosis': 169.21}"
      ]
     },
     "execution_count": 50,
     "metadata": {},
     "output_type": "execute_result"
    }
   ],
   "source": [
    "numerical_analysis(data = nykaa, col = \"Discount_Price\")"
   ]
  },
  {
   "cell_type": "code",
   "execution_count": 51,
   "id": "e58f9448",
   "metadata": {},
   "outputs": [
    {
     "data": {
      "image/png": "[encoded data removed]",
      "text/plain": [
       "<Figure size 640x480 with 1 Axes>"
      ]
     },
     "metadata": {},
     "output_type": "display_data"
    },
    {
     "data": {
      "image/png": "[encoded data removed]",
      "text/plain": [
       "<Figure size 640x480 with 1 Axes>"
      ]
     },
     "metadata": {},
     "output_type": "display_data"
    },
    {
     "data": {
      "text/plain": [
       "{'missing': 0,\n",
       " 'min': 0,\n",
       " 'max': 71,\n",
       " 'mean': 17.67,\n",
       " 'var': 172.39,\n",
       " 'std': 13.13,\n",
       " 'range': 71,\n",
       " 'q1': 10.0,\n",
       " 'q2': 18.5,\n",
       " 'q3': 25.0,\n",
       " 'skewness': 0.64,\n",
       " 'kurtosis': 0.5}"
      ]
     },
     "execution_count": 51,
     "metadata": {},
     "output_type": "execute_result"
    }
   ],
   "source": [
    "numerical_analysis(data = nykaa, col = \"Discount_Percentage\")"
   ]
  },
  {
   "cell_type": "code",
   "execution_count": 52,
   "id": "adcd396b",
   "metadata": {},
   "outputs": [
    {
     "data": {
      "image/png": "[encoded data removed]",
      "text/plain": [
       "<Figure size 640x480 with 1 Axes>"
      ]
     },
     "metadata": {},
     "output_type": "display_data"
    },
    {
     "data": {
      "image/png": "[encoded data removed]",
      "text/plain": [
       "<Figure size 640x480 with 1 Axes>"
      ]
     },
     "metadata": {},
     "output_type": "display_data"
    },
    {
     "data": {
      "text/plain": [
       "{'missing': 0,\n",
       " 'min': 0,\n",
       " 'max': 105717,\n",
       " 'mean': 6936.18,\n",
       " 'var': 186820460.63,\n",
       " 'std': 13668.23,\n",
       " 'range': 105717,\n",
       " 'q1': 548.0,\n",
       " 'q2': 1998.5,\n",
       " 'q3': 6558.75,\n",
       " 'skewness': 3.87,\n",
       " 'kurtosis': 17.53}"
      ]
     },
     "execution_count": 52,
     "metadata": {},
     "output_type": "execute_result"
    }
   ],
   "source": [
    "numerical_analysis(data = nykaa, col = \"Ratings\")"
   ]
  },
  {
   "cell_type": "code",
   "execution_count": 53,
   "id": "e8508fa2",
   "metadata": {},
   "outputs": [
    {
     "data": {
      "image/png": "[encoded data removed]",
      "text/plain": [
       "<Figure size 640x480 with 1 Axes>"
      ]
     },
     "metadata": {},
     "output_type": "display_data"
    },
    {
     "data": {
      "image/png": "[encoded data removed]",
      "text/plain": [
       "<Figure size 640x480 with 1 Axes>"
      ]
     },
     "metadata": {},
     "output_type": "display_data"
    },
    {
     "data": {
      "text/plain": [
       "{'missing': 0,\n",
       " 'min': 0,\n",
       " 'max': 16132,\n",
       " 'mean': 796.99,\n",
       " 'var': 3007201.62,\n",
       " 'std': 1734.13,\n",
       " 'range': 16132,\n",
       " 'q1': 58.0,\n",
       " 'q2': 215.5,\n",
       " 'q3': 739.25,\n",
       " 'skewness': 4.96,\n",
       " 'kurtosis': 30.79}"
      ]
     },
     "execution_count": 53,
     "metadata": {},
     "output_type": "execute_result"
    }
   ],
   "source": [
    "numerical_analysis(data = nykaa, col = \"Reviews\")"
   ]
  },
  {
   "cell_type": "code",
   "execution_count": 54,
   "id": "5c3e5b7e",
   "metadata": {},
   "outputs": [
    {
     "data": {
      "image/png": "[encoded data removed]",
      "text/plain": [
       "<Figure size 640x480 with 1 Axes>"
      ]
     },
     "metadata": {},
     "output_type": "display_data"
    },
    {
     "data": {
      "image/png": "[encoded data removed]",
      "text/plain": [
       "<Figure size 640x480 with 1 Axes>"
      ]
     },
     "metadata": {},
     "output_type": "display_data"
    },
    {
     "data": {
      "text/plain": [
       "{'missing': 0,\n",
       " 'min': 0.0,\n",
       " 'max': 4.8,\n",
       " 'mean': 4.32,\n",
       " 'var': 0.06,\n",
       " 'std': 0.25,\n",
       " 'range': 4.8,\n",
       " 'q1': 4.3,\n",
       " 'q2': 4.4,\n",
       " 'q3': 4.4,\n",
       " 'skewness': -9.62,\n",
       " 'kurtosis': 156.84}"
      ]
     },
     "execution_count": 54,
     "metadata": {},
     "output_type": "execute_result"
    }
   ],
   "source": [
    "numerical_analysis(data = nykaa, col = \"Overall_Rating_Out_Of_5\")"
   ]
  },
  {
   "cell_type": "markdown",
   "id": "01492546",
   "metadata": {},
   "source": [
    "## Outlier Treatment "
   ]
  },
  {
   "cell_type": "code",
   "execution_count": 64,
   "id": "c22bbbfe",
   "metadata": {},
   "outputs": [],
   "source": [
    "def outlier_treatment(col):\n",
    "    q1 = nykaa[col].quantile(.25)\n",
    "    q3 = nykaa[col].quantile(.75)\n",
    "    lower_cap = q1 - 1.5 * (q3 - q1)\n",
    "    upper_cap = q3 + 1.5 * (q3 - q1)\n",
    "\n",
    "    nykaa[col] = np.where(nykaa[col] >= upper_cap, upper_cap, nykaa[col])\n",
    "    nykaa[col] = np.where(nykaa[col] <= lower_cap, lower_cap, nykaa[col])"
   ]
  },
  {
   "cell_type": "code",
   "execution_count": 65,
   "id": "4ee8d62e",
   "metadata": {},
   "outputs": [
    {
     "data": {
      "text/plain": [
       "<Axes: ylabel='Original_Price'>"
      ]
     },
     "execution_count": 65,
     "metadata": {},
     "output_type": "execute_result"
    },
    {
     "data": {
      "image/png": "[encoded data removed]",
      "text/plain": [
       "<Figure size 640x480 with 1 Axes>"
      ]
     },
     "metadata": {},
     "output_type": "display_data"
    }
   ],
   "source": [
    "outlier_treatment(col = \"Original_Price\")\n",
    "sns.boxplot(data = nykaa, y = \"Original_Price\")"
   ]
  },
  {
   "cell_type": "code",
   "execution_count": 67,
   "id": "6d7fa80d",
   "metadata": {},
   "outputs": [
    {
     "data": {
      "text/plain": [
       "<Axes: ylabel='Discount_Price'>"
      ]
     },
     "execution_count": 67,
     "metadata": {},
     "output_type": "execute_result"
    },
    {
     "data": {
      "image/png": "[encoded data removed]",
      "text/plain": [
       "<Figure size 640x480 with 1 Axes>"
      ]
     },
     "metadata": {},
     "output_type": "display_data"
    }
   ],
   "source": [
    "outlier_treatment(col = \"Discount_Price\")\n",
    "sns.boxplot(data = nykaa, y = \"Discount_Price\")"
   ]
  },
  {
   "cell_type": "code",
   "execution_count": 69,
   "id": "8cfd8989",
   "metadata": {},
   "outputs": [
    {
     "data": {
      "text/plain": [
       "<Axes: ylabel='Discount_Percentage'>"
      ]
     },
     "execution_count": 69,
     "metadata": {},
     "output_type": "execute_result"
    },
    {
     "data": {
      "image/png": "[encoded data removed]",
      "text/plain": [
       "<Figure size 640x480 with 1 Axes>"
      ]
     },
     "metadata": {},
     "output_type": "display_data"
    }
   ],
   "source": [
    "outlier_treatment(col = \"Discount_Percentage\")\n",
    "sns.boxplot(data = nykaa, y = \"Discount_Percentage\")"
   ]
  },
  {
   "cell_type": "code",
   "execution_count": 71,
   "id": "dbb58ca6",
   "metadata": {},
   "outputs": [
    {
     "data": {
      "text/plain": [
       "<Axes: ylabel='Ratings'>"
      ]
     },
     "execution_count": 71,
     "metadata": {},
     "output_type": "execute_result"
    },
    {
     "data": {
      "image/png": "[encoded data removed]",
      "text/plain": [
       "<Figure size 640x480 with 1 Axes>"
      ]
     },
     "metadata": {},
     "output_type": "display_data"
    }
   ],
   "source": [
    "outlier_treatment(col = \"Ratings\")\n",
    "sns.boxplot(data = nykaa, y = \"Ratings\")"
   ]
  },
  {
   "cell_type": "code",
   "execution_count": 73,
   "id": "a88f4dad",
   "metadata": {},
   "outputs": [
    {
     "data": {
      "text/plain": [
       "<Axes: ylabel='Reviews'>"
      ]
     },
     "execution_count": 73,
     "metadata": {},
     "output_type": "execute_result"
    },
    {
     "data": {
      "image/png": "[encoded data removed]",
      "text/plain": [
       "<Figure size 640x480 with 1 Axes>"
      ]
     },
     "metadata": {},
     "output_type": "display_data"
    }
   ],
   "source": [
    "outlier_treatment(col = \"Reviews\")\n",
    "sns.boxplot(data = nykaa, y = \"Reviews\")"
   ]
  },
  {
   "cell_type": "code",
   "execution_count": 75,
   "id": "223c0b90",
   "metadata": {},
   "outputs": [
    {
     "data": {
      "text/plain": [
       "<Axes: ylabel='Overall_Rating_Out_Of_5'>"
      ]
     },
     "execution_count": 75,
     "metadata": {},
     "output_type": "execute_result"
    },
    {
     "data": {
      "image/png": "[encoded data removed]",
      "text/plain": [
       "<Figure size 640x480 with 1 Axes>"
      ]
     },
     "metadata": {},
     "output_type": "display_data"
    }
   ],
   "source": [
    "outlier_treatment(col = \"Overall_Rating_Out_Of_5\")\n",
    "sns.boxplot(data = nykaa, y = \"Overall_Rating_Out_Of_5\")"
   ]
  },
  {
   "cell_type": "markdown",
   "id": "290e055f",
   "metadata": {},
   "source": [
    "## Data Analysis and Visualisation "
   ]
  },
  {
   "cell_type": "markdown",
   "id": "e04cd851",
   "metadata": {},
   "source": [
    "### 1. Product Pricing and Discounts "
   ]
  },
  {
   "cell_type": "code",
   "execution_count": 28,
   "id": "23618b49",
   "metadata": {},
   "outputs": [
    {
     "name": "stdout",
     "output_type": "stream",
     "text": [
      "Average Discount Percentage: 17.67%\n"
     ]
    }
   ],
   "source": [
    "#1. What is the average discount percentage?\n",
    "avg_discount_percentage = nykaa['Discount_Percentage'].mean()\n",
    "print(f\"Average Discount Percentage: {avg_discount_percentage:.2f}%\")"
   ]
  },
  {
   "cell_type": "code",
   "execution_count": 29,
   "id": "56e9c431",
   "metadata": {},
   "outputs": [
    {
     "data": {
      "text/html": [
       "<div>\n",
       "<style scoped>\n",
       "    .dataframe tbody tr th:only-of-type {\n",
       "        vertical-align: middle;\n",
       "    }\n",
       "\n",
       "    .dataframe tbody tr th {\n",
       "        vertical-align: top;\n",
       "    }\n",
       "\n",
       "    .dataframe thead th {\n",
       "        text-align: right;\n",
       "    }\n",
       "</style>\n",
       "<table border=\"1\" class=\"dataframe\">\n",
       "  <thead>\n",
       "    <tr style=\"text-align: right;\">\n",
       "      <th></th>\n",
       "      <th>Order_ID</th>\n",
       "      <th>Product_Name</th>\n",
       "      <th>Discount_Price</th>\n",
       "    </tr>\n",
       "  </thead>\n",
       "  <tbody>\n",
       "    <tr>\n",
       "      <th>654</th>\n",
       "      <td>403342</td>\n",
       "      <td>TEMPTU Air Airbrush Makeup Kit</td>\n",
       "      <td>31875</td>\n",
       "    </tr>\n",
       "  </tbody>\n",
       "</table>\n",
       "</div>"
      ],
      "text/plain": [
       "    Order_ID                    Product_Name  Discount_Price\n",
       "654   403342  TEMPTU Air Airbrush Makeup Kit           31875"
      ]
     },
     "execution_count": 29,
     "metadata": {},
     "output_type": "execute_result"
    }
   ],
   "source": [
    "#2. Which product has the highest discount price?\n",
    "product = nykaa[nykaa['Discount_Price'] == nykaa['Discount_Price'].max()]\n",
    "product[['Order_ID', 'Product_Name', 'Discount_Price']]"
   ]
  },
  {
   "cell_type": "code",
   "execution_count": 30,
   "id": "06151093",
   "metadata": {},
   "outputs": [],
   "source": [
    "#3. Are there any products with unusually high or low discount percentages?\n",
    "high_discount = 50\n",
    "low_discount = 10\n",
    "\n",
    "high_discount_products = nykaa[nykaa[\"Discount_Percentage\"] > high_discount]\n",
    "low_discount_products = nykaa[nykaa[\"Discount_Percentage\"] < low_discount]"
   ]
  },
  {
   "cell_type": "code",
   "execution_count": 31,
   "id": "dc165333",
   "metadata": {},
   "outputs": [
    {
     "data": {
      "text/html": [
       "<div>\n",
       "<style scoped>\n",
       "    .dataframe tbody tr th:only-of-type {\n",
       "        vertical-align: middle;\n",
       "    }\n",
       "\n",
       "    .dataframe tbody tr th {\n",
       "        vertical-align: top;\n",
       "    }\n",
       "\n",
       "    .dataframe thead th {\n",
       "        text-align: right;\n",
       "    }\n",
       "</style>\n",
       "<table border=\"1\" class=\"dataframe\">\n",
       "  <thead>\n",
       "    <tr style=\"text-align: right;\">\n",
       "      <th></th>\n",
       "      <th>Order_ID</th>\n",
       "      <th>Product_Name</th>\n",
       "      <th>Product_Url</th>\n",
       "      <th>Original_Price</th>\n",
       "      <th>Discount_Price</th>\n",
       "      <th>Discount_Percentage</th>\n",
       "      <th>Ratings</th>\n",
       "      <th>Reviews</th>\n",
       "      <th>Overall_Rating_Out_Of_5</th>\n",
       "    </tr>\n",
       "  </thead>\n",
       "  <tbody>\n",
       "    <tr>\n",
       "      <th>121</th>\n",
       "      <td>3657958</td>\n",
       "      <td>Love Earth Multipot Lip and Cheek Tint</td>\n",
       "      <td>https://nykaa.com/love-earth-multipot-lipstick...</td>\n",
       "      <td>599</td>\n",
       "      <td>269</td>\n",
       "      <td>55</td>\n",
       "      <td>12544</td>\n",
       "      <td>1257</td>\n",
       "      <td>4.3</td>\n",
       "    </tr>\n",
       "    <tr>\n",
       "      <th>151</th>\n",
       "      <td>913213</td>\n",
       "      <td>Bronson Professional Pink Ultimate Classic Bea...</td>\n",
       "      <td>https://nykaa.com/bronson-professional-pink-ul...</td>\n",
       "      <td>250</td>\n",
       "      <td>100</td>\n",
       "      <td>60</td>\n",
       "      <td>15725</td>\n",
       "      <td>1156</td>\n",
       "      <td>4.4</td>\n",
       "    </tr>\n",
       "    <tr>\n",
       "      <th>217</th>\n",
       "      <td>6036602</td>\n",
       "      <td>Love Earth Liquid Mousse Lipstick</td>\n",
       "      <td>https://nykaa.com/love-earth-liquid-mousse-lip...</td>\n",
       "      <td>897</td>\n",
       "      <td>403</td>\n",
       "      <td>55</td>\n",
       "      <td>2713</td>\n",
       "      <td>339</td>\n",
       "      <td>4.4</td>\n",
       "    </tr>\n",
       "    <tr>\n",
       "      <th>269</th>\n",
       "      <td>484071</td>\n",
       "      <td>Bronson Professional Eyebrow and Face Razor - ...</td>\n",
       "      <td>https://nykaa.com/bronson-professional-tinkle-...</td>\n",
       "      <td>200</td>\n",
       "      <td>98</td>\n",
       "      <td>51</td>\n",
       "      <td>10914</td>\n",
       "      <td>1669</td>\n",
       "      <td>4.1</td>\n",
       "    </tr>\n",
       "    <tr>\n",
       "      <th>334</th>\n",
       "      <td>385775</td>\n",
       "      <td>Bronson Professional Beauty Blend Makeup Spong...</td>\n",
       "      <td>https://nykaa.com/bronson-professional-beauty-...</td>\n",
       "      <td>250</td>\n",
       "      <td>95</td>\n",
       "      <td>62</td>\n",
       "      <td>13525</td>\n",
       "      <td>1372</td>\n",
       "      <td>4.1</td>\n",
       "    </tr>\n",
       "    <tr>\n",
       "      <th>568</th>\n",
       "      <td>2702166</td>\n",
       "      <td>Bronson Professional Black Tear Drop Super Sof...</td>\n",
       "      <td>https://nykaa.com/bronson-professional-black-t...</td>\n",
       "      <td>230</td>\n",
       "      <td>100</td>\n",
       "      <td>57</td>\n",
       "      <td>2231</td>\n",
       "      <td>157</td>\n",
       "      <td>4.4</td>\n",
       "    </tr>\n",
       "    <tr>\n",
       "      <th>679</th>\n",
       "      <td>3761937</td>\n",
       "      <td>Bronson Professional Purple Beauty Blend Makeu...</td>\n",
       "      <td>https://nykaa.com/bronson-professional-beauty-...</td>\n",
       "      <td>230</td>\n",
       "      <td>110</td>\n",
       "      <td>52</td>\n",
       "      <td>2353</td>\n",
       "      <td>98</td>\n",
       "      <td>4.3</td>\n",
       "    </tr>\n",
       "    <tr>\n",
       "      <th>693</th>\n",
       "      <td>247018</td>\n",
       "      <td>Wet n Wild Color Icon Eyeshadow 10 Pan Palette</td>\n",
       "      <td>https://nykaa.com/wet-n-wild-color-icon-eyesha...</td>\n",
       "      <td>799</td>\n",
       "      <td>320</td>\n",
       "      <td>60</td>\n",
       "      <td>9466</td>\n",
       "      <td>2501</td>\n",
       "      <td>4.4</td>\n",
       "    </tr>\n",
       "    <tr>\n",
       "      <th>696</th>\n",
       "      <td>747946</td>\n",
       "      <td>WOW Skin Science Vitamin C Face Serum</td>\n",
       "      <td>https://nykaa.com/wow-skin-science-vitamin-c-s...</td>\n",
       "      <td>699</td>\n",
       "      <td>315</td>\n",
       "      <td>55</td>\n",
       "      <td>4373</td>\n",
       "      <td>656</td>\n",
       "      <td>4.2</td>\n",
       "    </tr>\n",
       "    <tr>\n",
       "      <th>719</th>\n",
       "      <td>1016490</td>\n",
       "      <td>Beautiliss Supreme Makeup Brush Set - 10 Pcs</td>\n",
       "      <td>https://nykaa.com/beautiliss-supreme-makeup-br...</td>\n",
       "      <td>1000</td>\n",
       "      <td>300</td>\n",
       "      <td>70</td>\n",
       "      <td>292</td>\n",
       "      <td>23</td>\n",
       "      <td>3.7</td>\n",
       "    </tr>\n",
       "    <tr>\n",
       "      <th>1006</th>\n",
       "      <td>1016494</td>\n",
       "      <td>Beautiliss Blush Brush</td>\n",
       "      <td>https://nykaa.com/beautiliss-blush-brush/p/101...</td>\n",
       "      <td>225</td>\n",
       "      <td>75</td>\n",
       "      <td>67</td>\n",
       "      <td>426</td>\n",
       "      <td>49</td>\n",
       "      <td>4.1</td>\n",
       "    </tr>\n",
       "    <tr>\n",
       "      <th>1075</th>\n",
       "      <td>8828189</td>\n",
       "      <td>Nicka K Eyes Don't Lie Palette Trio</td>\n",
       "      <td>https://nykaa.com/nicka-k-eyes-don-t-lie-palet...</td>\n",
       "      <td>2395</td>\n",
       "      <td>695</td>\n",
       "      <td>71</td>\n",
       "      <td>170</td>\n",
       "      <td>21</td>\n",
       "      <td>4.3</td>\n",
       "    </tr>\n",
       "    <tr>\n",
       "      <th>1092</th>\n",
       "      <td>2737092</td>\n",
       "      <td>Beautiliss Black Soft Microfiber Beauty Blend ...</td>\n",
       "      <td>https://nykaa.com/beautiliss-black-beauty-blen...</td>\n",
       "      <td>220</td>\n",
       "      <td>95</td>\n",
       "      <td>57</td>\n",
       "      <td>443</td>\n",
       "      <td>21</td>\n",
       "      <td>4.0</td>\n",
       "    </tr>\n",
       "  </tbody>\n",
       "</table>\n",
       "</div>"
      ],
      "text/plain": [
       "     Order_ID                                       Product_Name  \\\n",
       "121   3657958             Love Earth Multipot Lip and Cheek Tint   \n",
       "151    913213  Bronson Professional Pink Ultimate Classic Bea...   \n",
       "217   6036602                  Love Earth Liquid Mousse Lipstick   \n",
       "269    484071  Bronson Professional Eyebrow and Face Razor - ...   \n",
       "334    385775  Bronson Professional Beauty Blend Makeup Spong...   \n",
       "568   2702166  Bronson Professional Black Tear Drop Super Sof...   \n",
       "679   3761937  Bronson Professional Purple Beauty Blend Makeu...   \n",
       "693    247018     Wet n Wild Color Icon Eyeshadow 10 Pan Palette   \n",
       "696    747946              WOW Skin Science Vitamin C Face Serum   \n",
       "719   1016490       Beautiliss Supreme Makeup Brush Set - 10 Pcs   \n",
       "1006  1016494                             Beautiliss Blush Brush   \n",
       "1075  8828189                Nicka K Eyes Don't Lie Palette Trio   \n",
       "1092  2737092  Beautiliss Black Soft Microfiber Beauty Blend ...   \n",
       "\n",
       "                                            Product_Url  Original_Price  \\\n",
       "121   https://nykaa.com/love-earth-multipot-lipstick...             599   \n",
       "151   https://nykaa.com/bronson-professional-pink-ul...             250   \n",
       "217   https://nykaa.com/love-earth-liquid-mousse-lip...             897   \n",
       "269   https://nykaa.com/bronson-professional-tinkle-...             200   \n",
       "334   https://nykaa.com/bronson-professional-beauty-...             250   \n",
       "568   https://nykaa.com/bronson-professional-black-t...             230   \n",
       "679   https://nykaa.com/bronson-professional-beauty-...             230   \n",
       "693   https://nykaa.com/wet-n-wild-color-icon-eyesha...             799   \n",
       "696   https://nykaa.com/wow-skin-science-vitamin-c-s...             699   \n",
       "719   https://nykaa.com/beautiliss-supreme-makeup-br...            1000   \n",
       "1006  https://nykaa.com/beautiliss-blush-brush/p/101...             225   \n",
       "1075  https://nykaa.com/nicka-k-eyes-don-t-lie-palet...            2395   \n",
       "1092  https://nykaa.com/beautiliss-black-beauty-blen...             220   \n",
       "\n",
       "      Discount_Price  Discount_Percentage  Ratings  Reviews  \\\n",
       "121              269                   55    12544     1257   \n",
       "151              100                   60    15725     1156   \n",
       "217              403                   55     2713      339   \n",
       "269               98                   51    10914     1669   \n",
       "334               95                   62    13525     1372   \n",
       "568              100                   57     2231      157   \n",
       "679              110                   52     2353       98   \n",
       "693              320                   60     9466     2501   \n",
       "696              315                   55     4373      656   \n",
       "719              300                   70      292       23   \n",
       "1006              75                   67      426       49   \n",
       "1075             695                   71      170       21   \n",
       "1092              95                   57      443       21   \n",
       "\n",
       "      Overall_Rating_Out_Of_5  \n",
       "121                       4.3  \n",
       "151                       4.4  \n",
       "217                       4.4  \n",
       "269                       4.1  \n",
       "334                       4.1  \n",
       "568                       4.4  \n",
       "679                       4.3  \n",
       "693                       4.4  \n",
       "696                       4.2  \n",
       "719                       3.7  \n",
       "1006                      4.1  \n",
       "1075                      4.3  \n",
       "1092                      4.0  "
      ]
     },
     "execution_count": 31,
     "metadata": {},
     "output_type": "execute_result"
    }
   ],
   "source": [
    "high_discount_products"
   ]
  },
  {
   "cell_type": "code",
   "execution_count": 32,
   "id": "57cba287",
   "metadata": {},
   "outputs": [
    {
     "data": {
      "text/html": [
       "<div>\n",
       "<style scoped>\n",
       "    .dataframe tbody tr th:only-of-type {\n",
       "        vertical-align: middle;\n",
       "    }\n",
       "\n",
       "    .dataframe tbody tr th {\n",
       "        vertical-align: top;\n",
       "    }\n",
       "\n",
       "    .dataframe thead th {\n",
       "        text-align: right;\n",
       "    }\n",
       "</style>\n",
       "<table border=\"1\" class=\"dataframe\">\n",
       "  <thead>\n",
       "    <tr style=\"text-align: right;\">\n",
       "      <th></th>\n",
       "      <th>Order_ID</th>\n",
       "      <th>Product_Name</th>\n",
       "      <th>Product_Url</th>\n",
       "      <th>Original_Price</th>\n",
       "      <th>Discount_Price</th>\n",
       "      <th>Discount_Percentage</th>\n",
       "      <th>Ratings</th>\n",
       "      <th>Reviews</th>\n",
       "      <th>Overall_Rating_Out_Of_5</th>\n",
       "    </tr>\n",
       "  </thead>\n",
       "  <tbody>\n",
       "    <tr>\n",
       "      <th>21</th>\n",
       "      <td>89231</td>\n",
       "      <td>M.A.C Studio Fix Powder Plus Foundation</td>\n",
       "      <td>https://nykaa.com/m-a-c-studio-fix-powder-plus...</td>\n",
       "      <td>3300</td>\n",
       "      <td>3300</td>\n",
       "      <td>0</td>\n",
       "      <td>10940</td>\n",
       "      <td>1466</td>\n",
       "      <td>4.4</td>\n",
       "    </tr>\n",
       "    <tr>\n",
       "      <th>35</th>\n",
       "      <td>331327</td>\n",
       "      <td>M.A.C Lipstick / Mini</td>\n",
       "      <td>https://nykaa.com/lipstick-little-m-a-c/p/3313...</td>\n",
       "      <td>1250</td>\n",
       "      <td>1250</td>\n",
       "      <td>0</td>\n",
       "      <td>21900</td>\n",
       "      <td>4844</td>\n",
       "      <td>4.4</td>\n",
       "    </tr>\n",
       "    <tr>\n",
       "      <th>43</th>\n",
       "      <td>520378</td>\n",
       "      <td>Nykaa Cosmetics Matte To Last! Mini Liquid Lip...</td>\n",
       "      <td>https://nykaa.com/nykaa-matte-to-last-mini-liq...</td>\n",
       "      <td>325</td>\n",
       "      <td>325</td>\n",
       "      <td>0</td>\n",
       "      <td>91374</td>\n",
       "      <td>15383</td>\n",
       "      <td>3.9</td>\n",
       "    </tr>\n",
       "    <tr>\n",
       "      <th>48</th>\n",
       "      <td>5694087</td>\n",
       "      <td>Pixi On The Glow Cream Blush</td>\n",
       "      <td>https://nykaa.com/pixi-on-the-glow-blush/p/569...</td>\n",
       "      <td>1950</td>\n",
       "      <td>1950</td>\n",
       "      <td>0</td>\n",
       "      <td>1295</td>\n",
       "      <td>271</td>\n",
       "      <td>4.3</td>\n",
       "    </tr>\n",
       "    <tr>\n",
       "      <th>58</th>\n",
       "      <td>5914155</td>\n",
       "      <td>Nykaa Cosmetics Instalike Nail Enamel</td>\n",
       "      <td>https://nykaa.com/nykaa-cosmetics-instalike-na...</td>\n",
       "      <td>119</td>\n",
       "      <td>119</td>\n",
       "      <td>0</td>\n",
       "      <td>5304</td>\n",
       "      <td>460</td>\n",
       "      <td>4.5</td>\n",
       "    </tr>\n",
       "    <tr>\n",
       "      <th>...</th>\n",
       "      <td>...</td>\n",
       "      <td>...</td>\n",
       "      <td>...</td>\n",
       "      <td>...</td>\n",
       "      <td>...</td>\n",
       "      <td>...</td>\n",
       "      <td>...</td>\n",
       "      <td>...</td>\n",
       "      <td>...</td>\n",
       "    </tr>\n",
       "    <tr>\n",
       "      <th>1079</th>\n",
       "      <td>5139822</td>\n",
       "      <td>PAT McGRATH LABS Liquilust Legendary Wear Matt...</td>\n",
       "      <td>https://nykaa.com/pat-mcgrath-labs-liquilust-l...</td>\n",
       "      <td>2700</td>\n",
       "      <td>2700</td>\n",
       "      <td>0</td>\n",
       "      <td>123</td>\n",
       "      <td>46</td>\n",
       "      <td>4.4</td>\n",
       "    </tr>\n",
       "    <tr>\n",
       "      <th>1086</th>\n",
       "      <td>2735779</td>\n",
       "      <td>Huda Beauty Glowish Multidew Skin Tint</td>\n",
       "      <td>https://nykaa.com/huda-beauty-glowish-multidew...</td>\n",
       "      <td>3500</td>\n",
       "      <td>3500</td>\n",
       "      <td>0</td>\n",
       "      <td>180</td>\n",
       "      <td>34</td>\n",
       "      <td>4.1</td>\n",
       "    </tr>\n",
       "    <tr>\n",
       "      <th>1088</th>\n",
       "      <td>10439562</td>\n",
       "      <td>FYOLI Triangle Pizza Powder Puff And Beauty Bl...</td>\n",
       "      <td>https://nykaa.com/fyoli-triangle-pizza-powder-...</td>\n",
       "      <td>150</td>\n",
       "      <td>150</td>\n",
       "      <td>0</td>\n",
       "      <td>182</td>\n",
       "      <td>21</td>\n",
       "      <td>3.8</td>\n",
       "    </tr>\n",
       "    <tr>\n",
       "      <th>1091</th>\n",
       "      <td>2768518</td>\n",
       "      <td>Nudestix Intense Matte Lip + Cheek Pencil</td>\n",
       "      <td>https://nykaa.com/nudestix-intense-matte-lip-c...</td>\n",
       "      <td>2850</td>\n",
       "      <td>2850</td>\n",
       "      <td>0</td>\n",
       "      <td>106</td>\n",
       "      <td>24</td>\n",
       "      <td>4.5</td>\n",
       "    </tr>\n",
       "    <tr>\n",
       "      <th>1099</th>\n",
       "      <td>601771</td>\n",
       "      <td>Benefit Cosmetics Love Tint - Fiery Red</td>\n",
       "      <td>https://nykaa.com/benefit-cosmetics-love-tint-...</td>\n",
       "      <td>1950</td>\n",
       "      <td>1950</td>\n",
       "      <td>0</td>\n",
       "      <td>397</td>\n",
       "      <td>91</td>\n",
       "      <td>4.3</td>\n",
       "    </tr>\n",
       "  </tbody>\n",
       "</table>\n",
       "<p>234 rows × 9 columns</p>\n",
       "</div>"
      ],
      "text/plain": [
       "      Order_ID                                       Product_Name  \\\n",
       "21       89231            M.A.C Studio Fix Powder Plus Foundation   \n",
       "35      331327                              M.A.C Lipstick / Mini   \n",
       "43      520378  Nykaa Cosmetics Matte To Last! Mini Liquid Lip...   \n",
       "48     5694087                       Pixi On The Glow Cream Blush   \n",
       "58     5914155              Nykaa Cosmetics Instalike Nail Enamel   \n",
       "...        ...                                                ...   \n",
       "1079   5139822  PAT McGRATH LABS Liquilust Legendary Wear Matt...   \n",
       "1086   2735779             Huda Beauty Glowish Multidew Skin Tint   \n",
       "1088  10439562  FYOLI Triangle Pizza Powder Puff And Beauty Bl...   \n",
       "1091   2768518          Nudestix Intense Matte Lip + Cheek Pencil   \n",
       "1099    601771            Benefit Cosmetics Love Tint - Fiery Red   \n",
       "\n",
       "                                            Product_Url  Original_Price  \\\n",
       "21    https://nykaa.com/m-a-c-studio-fix-powder-plus...            3300   \n",
       "35    https://nykaa.com/lipstick-little-m-a-c/p/3313...            1250   \n",
       "43    https://nykaa.com/nykaa-matte-to-last-mini-liq...             325   \n",
       "48    https://nykaa.com/pixi-on-the-glow-blush/p/569...            1950   \n",
       "58    https://nykaa.com/nykaa-cosmetics-instalike-na...             119   \n",
       "...                                                 ...             ...   \n",
       "1079  https://nykaa.com/pat-mcgrath-labs-liquilust-l...            2700   \n",
       "1086  https://nykaa.com/huda-beauty-glowish-multidew...            3500   \n",
       "1088  https://nykaa.com/fyoli-triangle-pizza-powder-...             150   \n",
       "1091  https://nykaa.com/nudestix-intense-matte-lip-c...            2850   \n",
       "1099  https://nykaa.com/benefit-cosmetics-love-tint-...            1950   \n",
       "\n",
       "      Discount_Price  Discount_Percentage  Ratings  Reviews  \\\n",
       "21              3300                    0    10940     1466   \n",
       "35              1250                    0    21900     4844   \n",
       "43               325                    0    91374    15383   \n",
       "48              1950                    0     1295      271   \n",
       "58               119                    0     5304      460   \n",
       "...              ...                  ...      ...      ...   \n",
       "1079            2700                    0      123       46   \n",
       "1086            3500                    0      180       34   \n",
       "1088             150                    0      182       21   \n",
       "1091            2850                    0      106       24   \n",
       "1099            1950                    0      397       91   \n",
       "\n",
       "      Overall_Rating_Out_Of_5  \n",
       "21                        4.4  \n",
       "35                        4.4  \n",
       "43                        3.9  \n",
       "48                        4.3  \n",
       "58                        4.5  \n",
       "...                       ...  \n",
       "1079                      4.4  \n",
       "1086                      4.1  \n",
       "1088                      3.8  \n",
       "1091                      4.5  \n",
       "1099                      4.3  \n",
       "\n",
       "[234 rows x 9 columns]"
      ]
     },
     "execution_count": 32,
     "metadata": {},
     "output_type": "execute_result"
    }
   ],
   "source": [
    "low_discount_products"
   ]
  },
  {
   "cell_type": "markdown",
   "id": "381f83b9",
   "metadata": {},
   "source": [
    "### 2. Product Ratings and Reviews "
   ]
  },
  {
   "cell_type": "code",
   "execution_count": 33,
   "id": "bb19f1a3",
   "metadata": {},
   "outputs": [
    {
     "data": {
      "image/png": "[encoded data removed]",
      "text/plain": [
       "<Figure size 800x600 with 1 Axes>"
      ]
     },
     "metadata": {},
     "output_type": "display_data"
    }
   ],
   "source": [
    "#1. Distribution of ratings across products\n",
    "plt.figure(figsize=(8, 6))\n",
    "sns.histplot(nykaa['Ratings'], bins=20, kde=True)\n",
    "plt.title('Distribution of Ratings Across Products')\n",
    "plt.xlabel('Ratings')\n",
    "plt.ylabel('Frequency')\n",
    "plt.show()"
   ]
  },
  {
   "cell_type": "code",
   "execution_count": 34,
   "id": "639b5db1",
   "metadata": {},
   "outputs": [
    {
     "data": {
      "image/png": "[encoded data removed]",
      "text/plain": [
       "<Figure size 800x600 with 1 Axes>"
      ]
     },
     "metadata": {},
     "output_type": "display_data"
    }
   ],
   "source": [
    "#2. Correlation between product ratings and reviews \n",
    "correlation = nykaa['Ratings'].corr(nykaa['Reviews'])\n",
    "plt.figure(figsize=(8, 6))\n",
    "sns.scatterplot(x='Ratings', y='Reviews', data=nykaa)\n",
    "plt.title(f'Correlation between Ratings and Reviews (Correlation Coefficient: {correlation:.2f})')\n",
    "plt.xlabel('Ratings')\n",
    "plt.ylabel('Reviews')\n",
    "plt.show()"
   ]
  },
  {
   "cell_type": "code",
   "execution_count": 35,
   "id": "b13e78b7",
   "metadata": {},
   "outputs": [
    {
     "data": {
      "text/html": [
       "<div>\n",
       "<style scoped>\n",
       "    .dataframe tbody tr th:only-of-type {\n",
       "        vertical-align: middle;\n",
       "    }\n",
       "\n",
       "    .dataframe tbody tr th {\n",
       "        vertical-align: top;\n",
       "    }\n",
       "\n",
       "    .dataframe thead th {\n",
       "        text-align: right;\n",
       "    }\n",
       "</style>\n",
       "<table border=\"1\" class=\"dataframe\">\n",
       "  <thead>\n",
       "    <tr style=\"text-align: right;\">\n",
       "      <th></th>\n",
       "      <th>Product_Name</th>\n",
       "      <th>Overall_Rating_Out_Of_5</th>\n",
       "      <th>Reviews</th>\n",
       "    </tr>\n",
       "  </thead>\n",
       "  <tbody>\n",
       "    <tr>\n",
       "      <th>641</th>\n",
       "      <td>Smashbox Always On Liquid Lipstick - Gulabae (...</td>\n",
       "      <td>4.5</td>\n",
       "      <td>8</td>\n",
       "    </tr>\n",
       "    <tr>\n",
       "      <th>771</th>\n",
       "      <td>Bobbi Brown Extra Lip Tint Duo - Bare Pink</td>\n",
       "      <td>4.3</td>\n",
       "      <td>2</td>\n",
       "    </tr>\n",
       "    <tr>\n",
       "      <th>830</th>\n",
       "      <td>Estee Lauder Pure Color Lipstick Emerald (Matte)</td>\n",
       "      <td>4.5</td>\n",
       "      <td>5</td>\n",
       "    </tr>\n",
       "    <tr>\n",
       "      <th>831</th>\n",
       "      <td>SUGAR Complete Makeup Kit - Fair</td>\n",
       "      <td>4.3</td>\n",
       "      <td>1</td>\n",
       "    </tr>\n",
       "    <tr>\n",
       "      <th>943</th>\n",
       "      <td>ICONIC London Illuminator</td>\n",
       "      <td>4.5</td>\n",
       "      <td>8</td>\n",
       "    </tr>\n",
       "    <tr>\n",
       "      <th>968</th>\n",
       "      <td>TEMPTU One Airbrush Makeup Kit</td>\n",
       "      <td>4.8</td>\n",
       "      <td>1</td>\n",
       "    </tr>\n",
       "    <tr>\n",
       "      <th>988</th>\n",
       "      <td>Clinique X Kate Spade Pop Plush Creamy Lip Gloss</td>\n",
       "      <td>4.1</td>\n",
       "      <td>5</td>\n",
       "    </tr>\n",
       "    <tr>\n",
       "      <th>1036</th>\n",
       "      <td>NYX Professional Makeup Barbie On The Go Cheek...</td>\n",
       "      <td>4.3</td>\n",
       "      <td>4</td>\n",
       "    </tr>\n",
       "    <tr>\n",
       "      <th>1070</th>\n",
       "      <td>M.A.C Connect In Colour Eye Shadow Palette X6</td>\n",
       "      <td>4.8</td>\n",
       "      <td>0</td>\n",
       "    </tr>\n",
       "    <tr>\n",
       "      <th>1096</th>\n",
       "      <td>Nykaa Cosmetics Insta Dry Nail Enamel - Reelin...</td>\n",
       "      <td>4.4</td>\n",
       "      <td>1</td>\n",
       "    </tr>\n",
       "  </tbody>\n",
       "</table>\n",
       "</div>"
      ],
      "text/plain": [
       "                                           Product_Name  \\\n",
       "641   Smashbox Always On Liquid Lipstick - Gulabae (...   \n",
       "771          Bobbi Brown Extra Lip Tint Duo - Bare Pink   \n",
       "830    Estee Lauder Pure Color Lipstick Emerald (Matte)   \n",
       "831                    SUGAR Complete Makeup Kit - Fair   \n",
       "943                           ICONIC London Illuminator   \n",
       "968                      TEMPTU One Airbrush Makeup Kit   \n",
       "988    Clinique X Kate Spade Pop Plush Creamy Lip Gloss   \n",
       "1036  NYX Professional Makeup Barbie On The Go Cheek...   \n",
       "1070      M.A.C Connect In Colour Eye Shadow Palette X6   \n",
       "1096  Nykaa Cosmetics Insta Dry Nail Enamel - Reelin...   \n",
       "\n",
       "      Overall_Rating_Out_Of_5  Reviews  \n",
       "641                       4.5        8  \n",
       "771                       4.3        2  \n",
       "830                       4.5        5  \n",
       "831                       4.3        1  \n",
       "943                       4.5        8  \n",
       "968                       4.8        1  \n",
       "988                       4.1        5  \n",
       "1036                      4.3        4  \n",
       "1070                      4.8        0  \n",
       "1096                      4.4        1  "
      ]
     },
     "execution_count": 35,
     "metadata": {},
     "output_type": "execute_result"
    }
   ],
   "source": [
    "#3. Products having high rating out of 5 but relatively low number of ratings:\n",
    "high_ratings_out_of_5 = 4.0\n",
    "low_num_of_ratings = 30\n",
    "\n",
    "low_ratings_high_reviews = nykaa[(nykaa['Overall_Rating_Out_Of_5'] > high_ratings_out_of_5) & (nykaa['Ratings'] < low_num_of_ratings)]\n",
    "\n",
    "low_ratings_high_reviews[['Product_Name', 'Overall_Rating_Out_Of_5', 'Reviews']]"
   ]
  },
  {
   "cell_type": "markdown",
   "id": "14470380",
   "metadata": {},
   "source": [
    "### 3. Best and Worst Products "
   ]
  },
  {
   "cell_type": "code",
   "execution_count": 36,
   "id": "db8f37e4",
   "metadata": {},
   "outputs": [
    {
     "data": {
      "text/html": [
       "<div>\n",
       "<style scoped>\n",
       "    .dataframe tbody tr th:only-of-type {\n",
       "        vertical-align: middle;\n",
       "    }\n",
       "\n",
       "    .dataframe tbody tr th {\n",
       "        vertical-align: top;\n",
       "    }\n",
       "\n",
       "    .dataframe thead th {\n",
       "        text-align: right;\n",
       "    }\n",
       "</style>\n",
       "<table border=\"1\" class=\"dataframe\">\n",
       "  <thead>\n",
       "    <tr style=\"text-align: right;\">\n",
       "      <th></th>\n",
       "      <th>Product_Name</th>\n",
       "      <th>Overall_Rating_Out_Of_5</th>\n",
       "    </tr>\n",
       "  </thead>\n",
       "  <tbody>\n",
       "    <tr>\n",
       "      <th>1070</th>\n",
       "      <td>M.A.C Connect In Colour Eye Shadow Palette X6</td>\n",
       "      <td>4.8</td>\n",
       "    </tr>\n",
       "    <tr>\n",
       "      <th>527</th>\n",
       "      <td>Praush Sweet Cheeks Liquid Blush</td>\n",
       "      <td>4.8</td>\n",
       "    </tr>\n",
       "    <tr>\n",
       "      <th>1031</th>\n",
       "      <td>ETUDE HOUSE Lovely Cookie Pressed Powder Blush</td>\n",
       "      <td>4.8</td>\n",
       "    </tr>\n",
       "    <tr>\n",
       "      <th>968</th>\n",
       "      <td>TEMPTU One Airbrush Makeup Kit</td>\n",
       "      <td>4.8</td>\n",
       "    </tr>\n",
       "    <tr>\n",
       "      <th>815</th>\n",
       "      <td>LANEIGE Lip Treatment Balm</td>\n",
       "      <td>4.7</td>\n",
       "    </tr>\n",
       "  </tbody>\n",
       "</table>\n",
       "</div>"
      ],
      "text/plain": [
       "                                        Product_Name  Overall_Rating_Out_Of_5\n",
       "1070   M.A.C Connect In Colour Eye Shadow Palette X6                      4.8\n",
       "527                 Praush Sweet Cheeks Liquid Blush                      4.8\n",
       "1031  ETUDE HOUSE Lovely Cookie Pressed Powder Blush                      4.8\n",
       "968                   TEMPTU One Airbrush Makeup Kit                      4.8\n",
       "815                       LANEIGE Lip Treatment Balm                      4.7"
      ]
     },
     "execution_count": 36,
     "metadata": {},
     "output_type": "execute_result"
    }
   ],
   "source": [
    "#1. Products having highest overall rating out of 5\n",
    "top_products = nykaa.sort_values(by='Overall_Rating_Out_Of_5', ascending=False)\n",
    "top_products[['Product_Name', 'Overall_Rating_Out_Of_5']].head()"
   ]
  },
  {
   "cell_type": "code",
   "execution_count": 37,
   "id": "50303f57",
   "metadata": {},
   "outputs": [
    {
     "data": {
      "image/png": "[encoded data removed]",
      "text/plain": [
       "<Figure size 1200x500 with 2 Axes>"
      ]
     },
     "metadata": {},
     "output_type": "display_data"
    }
   ],
   "source": [
    "#2. Visualise any patterns between Product Ratings and Price (Discounted or Original)\n",
    "\n",
    "#Original Price vs Overall Rating\n",
    "plt.figure(figsize=(12, 5))\n",
    "plt.subplot(1, 2, 1)\n",
    "sns.scatterplot(x='Original_Price', y='Overall_Rating_Out_Of_5', data=nykaa)\n",
    "plt.title('Relationship Between Ratings and Original Price')\n",
    "plt.xlabel('Original Price')\n",
    "plt.ylabel('Overall Rating (Out of 5)')\n",
    "\n",
    "# Discount Price vs Overall Rating\n",
    "plt.subplot(1, 2, 2)\n",
    "sns.scatterplot(x='Discount_Price', y='Overall_Rating_Out_Of_5', data=nykaa)\n",
    "plt.title('Relationship Between Ratings and Discount Price')\n",
    "plt.xlabel('Discount Price')\n",
    "plt.ylabel('Overall Rating (Out of 5)')\n",
    "\n",
    "plt.tight_layout()\n",
    "plt.show()"
   ]
  },
  {
   "cell_type": "code",
   "execution_count": 38,
   "id": "1247fc9b",
   "metadata": {},
   "outputs": [],
   "source": [
    "#3. Categorise final price into Low, Medium and High values\n",
    "bins = [0, 500, 1000, 5000, float('inf')]\n",
    "labels = ['Low', 'Medium', 'High', \"Very High\"]\n",
    "\n",
    "nykaa['Discount_Price_Range'] = pd.cut(nykaa['Discount_Price'], bins = bins, labels = labels)"
   ]
  },
  {
   "cell_type": "code",
   "execution_count": 39,
   "id": "17091c3d",
   "metadata": {},
   "outputs": [
    {
     "data": {
      "text/plain": [
       "Discount_Price_Range\n",
       "Low          647\n",
       "Medium       250\n",
       "High         190\n",
       "Very High     13\n",
       "Name: Order_ID, dtype: int64"
      ]
     },
     "execution_count": 39,
     "metadata": {},
     "output_type": "execute_result"
    }
   ],
   "source": [
    "nykaa.groupby([\"Discount_Price_Range\"])[\"Order_ID\"].count()"
   ]
  },
  {
   "cell_type": "code",
   "execution_count": null,
   "id": "d7cf17db",
   "metadata": {},
   "outputs": [],
   "source": []
  }
 ],
 "metadata": {
  "kernelspec": {
   "display_name": "Python 3 (ipykernel)",
   "language": "python",
   "name": "python3"
  },
  "language_info": {
   "codemirror_mode": {
    "name": "ipython",
    "version": 3
   },
   "file_extension": ".py",
   "mimetype": "text/x-python",
   "name": "python",
   "nbconvert_exporter": "python",
   "pygments_lexer": "ipython3",
   "version": "3.11.3"
  }
 },
 "nbformat": 4,
 "nbformat_minor": 5
}
